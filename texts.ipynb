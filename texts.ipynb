{
 "cells": [
  {
   "cell_type": "markdown",
   "metadata": {
    "id": "OCfOAvvpXHaH"
   },
   "source": [
    "# Введение в глубинное обучение, ФКН ВШЭ\n",
    "\n",
    "## Домашнее задание 3. Обработка текстов.\n",
    "\n",
    "### О задании\n",
    "\n",
    "В данном домашнем задании вам предстоит предсказывать пользовательскую оценку отеля по тексту отзыва. Нужно обучиться на данных с кэггла и заслать в [соревнование](https://www.kaggle.com/t/3e8fa6cec6d048bf8e93fb72e441d88c) предикт. По той же ссылке можете скачать данные.\n",
    "\n",
    "Мы собрали для вас отзывы по 1500 отелям из совершенно разных уголков мира. Что это за отели - секрет. Вам дан текст отзыва и пользовательская оценка отеля. Ваша задача - научиться предсказывать оценку отеля по отзыву.\n",
    "\n",
    "Главная метрика - Mean Absolute Error (MAE). Во всех частях домашней работы вам нужно получить значение MAE не превышающее 0.92 на публичном лидерборде. В противном случае мы будем вынуждены не засчитать задание :( \n",
    "\n",
    "#### Про данные:\n",
    "Каждое ревью состоит из двух текстов: positive и negative - плюсы и минусы отеля. В столбце score находится оценка пользователя - вещественное число 0 до 10. Вам нужно извлечь признаки из этих текстов и предсказать по ним оценку.\n",
    "\n",
    "Для локального тестирования используйте предоставленное разбиение на трейн и тест.\n",
    "\n",
    "Good luck & have fun! 💪"
   ]
  },
  {
   "cell_type": "markdown",
   "metadata": {
    "id": "T6Ej16t1XHaM"
   },
   "source": [
    "#### Использовать любые данные для обучения кроме предоставленных организаторами строго запрещено. В последней части можно использовать предобученные модели из библиотеки `transformers`."
   ]
  },
  {
   "cell_type": "code",
   "execution_count": 1,
   "metadata": {
    "colab": {
     "base_uri": "https://localhost:8080/"
    },
    "id": "_T7p_ioCbUzI",
    "outputId": "84c40a20-f289-4442-afa5-fcb68d8a2ba8"
   },
   "outputs": [
    {
     "name": "stdout",
     "output_type": "stream",
     "text": [
      "Warning: Looks like you're using an outdated API Version, please consider updating (server 1.5.12 / client 1.5.4)\n",
      "Downloading train.csv.zip to /content\n",
      " 57% 5.00M/8.78M [00:00<00:00, 13.6MB/s]\n",
      "100% 8.78M/8.78M [00:00<00:00, 17.4MB/s]\n",
      "Downloading sample_submission%281%29.csv to /content\n",
      "  0% 0.00/723k [00:00<?, ?B/s]\n",
      "100% 723k/723k [00:00<00:00, 35.1MB/s]\n",
      "Downloading test.csv.zip to /content\n",
      "  0% 0.00/1.75M [00:00<?, ?B/s]\n",
      "100% 1.75M/1.75M [00:00<00:00, 44.8MB/s]\n",
      "Archive:  test.csv.zip\n",
      "  inflating: test.csv                \n",
      "Archive:  train.csv.zip\n",
      "  inflating: train.csv               \n"
     ]
    }
   ],
   "source": [
    "!mkdir -p ~/.kaggle/ && mv kaggle.json ~/.kaggle/ && chmod 600 ~/.kaggle/kaggle.json\n",
    "\n",
    "!kaggle competitions download -c intro-to-dl-hw03\n",
    "!unzip test.csv.zip && unzip train.csv.zip"
   ]
  },
  {
   "cell_type": "code",
   "execution_count": 2,
   "metadata": {
    "id": "U4Gc4Go5XHaN"
   },
   "outputs": [],
   "source": [
    "PATH_TO_TRAIN_DATA = 'train.csv'\n",
    "PATH_TO_TEST_DATA = 'test.csv'"
   ]
  },
  {
   "cell_type": "code",
   "execution_count": 3,
   "metadata": {
    "colab": {
     "base_uri": "https://localhost:8080/",
     "height": 206
    },
    "id": "6kJRM6ZUXHaO",
    "outputId": "80f62128-de5a-473e-db2f-684339f51e8f"
   },
   "outputs": [
    {
     "data": {
      "text/html": [
       "\n",
       "  <div id=\"df-4ceec671-d051-4871-8f80-396088d38608\">\n",
       "    <div class=\"colab-df-container\">\n",
       "      <div>\n",
       "<style scoped>\n",
       "    .dataframe tbody tr th:only-of-type {\n",
       "        vertical-align: middle;\n",
       "    }\n",
       "\n",
       "    .dataframe tbody tr th {\n",
       "        vertical-align: top;\n",
       "    }\n",
       "\n",
       "    .dataframe thead th {\n",
       "        text-align: right;\n",
       "    }\n",
       "</style>\n",
       "<table border=\"1\" class=\"dataframe\">\n",
       "  <thead>\n",
       "    <tr style=\"text-align: right;\">\n",
       "      <th></th>\n",
       "      <th>review_id</th>\n",
       "      <th>negative</th>\n",
       "      <th>positive</th>\n",
       "      <th>score</th>\n",
       "    </tr>\n",
       "  </thead>\n",
       "  <tbody>\n",
       "    <tr>\n",
       "      <th>0</th>\n",
       "      <td>00003c6036f30f590c0ac435efb8739b</td>\n",
       "      <td>There were issues with the wifi connection</td>\n",
       "      <td>No Positive</td>\n",
       "      <td>7.1</td>\n",
       "    </tr>\n",
       "    <tr>\n",
       "      <th>1</th>\n",
       "      <td>00004d18f186bf2489590dc415876f73</td>\n",
       "      <td>TV not working</td>\n",
       "      <td>No Positive</td>\n",
       "      <td>7.5</td>\n",
       "    </tr>\n",
       "    <tr>\n",
       "      <th>2</th>\n",
       "      <td>0000cf900cbb8667fad33a717e9b1cf4</td>\n",
       "      <td>More pillows</td>\n",
       "      <td>Beautiful room Great location Lovely staff</td>\n",
       "      <td>10.0</td>\n",
       "    </tr>\n",
       "    <tr>\n",
       "      <th>3</th>\n",
       "      <td>0000df16edf19e7ad9dd8c5cd6f6925e</td>\n",
       "      <td>Very business</td>\n",
       "      <td>Location</td>\n",
       "      <td>5.4</td>\n",
       "    </tr>\n",
       "    <tr>\n",
       "      <th>4</th>\n",
       "      <td>00025e1aa3ac32edb496db49e76bbd00</td>\n",
       "      <td>Rooms could do with a bit of a refurbishment ...</td>\n",
       "      <td>Nice breakfast handy for Victoria train stati...</td>\n",
       "      <td>6.7</td>\n",
       "    </tr>\n",
       "  </tbody>\n",
       "</table>\n",
       "</div>\n",
       "      <button class=\"colab-df-convert\" onclick=\"convertToInteractive('df-4ceec671-d051-4871-8f80-396088d38608')\"\n",
       "              title=\"Convert this dataframe to an interactive table.\"\n",
       "              style=\"display:none;\">\n",
       "        \n",
       "  <svg xmlns=\"http://www.w3.org/2000/svg\" height=\"24px\"viewBox=\"0 0 24 24\"\n",
       "       width=\"24px\">\n",
       "    <path d=\"M0 0h24v24H0V0z\" fill=\"none\"/>\n",
       "    <path d=\"M18.56 5.44l.94 2.06.94-2.06 2.06-.94-2.06-.94-.94-2.06-.94 2.06-2.06.94zm-11 1L8.5 8.5l.94-2.06 2.06-.94-2.06-.94L8.5 2.5l-.94 2.06-2.06.94zm10 10l.94 2.06.94-2.06 2.06-.94-2.06-.94-.94-2.06-.94 2.06-2.06.94z\"/><path d=\"M17.41 7.96l-1.37-1.37c-.4-.4-.92-.59-1.43-.59-.52 0-1.04.2-1.43.59L10.3 9.45l-7.72 7.72c-.78.78-.78 2.05 0 2.83L4 21.41c.39.39.9.59 1.41.59.51 0 1.02-.2 1.41-.59l7.78-7.78 2.81-2.81c.8-.78.8-2.07 0-2.86zM5.41 20L4 18.59l7.72-7.72 1.47 1.35L5.41 20z\"/>\n",
       "  </svg>\n",
       "      </button>\n",
       "      \n",
       "  <style>\n",
       "    .colab-df-container {\n",
       "      display:flex;\n",
       "      flex-wrap:wrap;\n",
       "      gap: 12px;\n",
       "    }\n",
       "\n",
       "    .colab-df-convert {\n",
       "      background-color: #E8F0FE;\n",
       "      border: none;\n",
       "      border-radius: 50%;\n",
       "      cursor: pointer;\n",
       "      display: none;\n",
       "      fill: #1967D2;\n",
       "      height: 32px;\n",
       "      padding: 0 0 0 0;\n",
       "      width: 32px;\n",
       "    }\n",
       "\n",
       "    .colab-df-convert:hover {\n",
       "      background-color: #E2EBFA;\n",
       "      box-shadow: 0px 1px 2px rgba(60, 64, 67, 0.3), 0px 1px 3px 1px rgba(60, 64, 67, 0.15);\n",
       "      fill: #174EA6;\n",
       "    }\n",
       "\n",
       "    [theme=dark] .colab-df-convert {\n",
       "      background-color: #3B4455;\n",
       "      fill: #D2E3FC;\n",
       "    }\n",
       "\n",
       "    [theme=dark] .colab-df-convert:hover {\n",
       "      background-color: #434B5C;\n",
       "      box-shadow: 0px 1px 3px 1px rgba(0, 0, 0, 0.15);\n",
       "      filter: drop-shadow(0px 1px 2px rgba(0, 0, 0, 0.3));\n",
       "      fill: #FFFFFF;\n",
       "    }\n",
       "  </style>\n",
       "\n",
       "      <script>\n",
       "        const buttonEl =\n",
       "          document.querySelector('#df-4ceec671-d051-4871-8f80-396088d38608 button.colab-df-convert');\n",
       "        buttonEl.style.display =\n",
       "          google.colab.kernel.accessAllowed ? 'block' : 'none';\n",
       "\n",
       "        async function convertToInteractive(key) {\n",
       "          const element = document.querySelector('#df-4ceec671-d051-4871-8f80-396088d38608');\n",
       "          const dataTable =\n",
       "            await google.colab.kernel.invokeFunction('convertToInteractive',\n",
       "                                                     [key], {});\n",
       "          if (!dataTable) return;\n",
       "\n",
       "          const docLinkHtml = 'Like what you see? Visit the ' +\n",
       "            '<a target=\"_blank\" href=https://colab.research.google.com/notebooks/data_table.ipynb>data table notebook</a>'\n",
       "            + ' to learn more about interactive tables.';\n",
       "          element.innerHTML = '';\n",
       "          dataTable['output_type'] = 'display_data';\n",
       "          await google.colab.output.renderOutput(dataTable, element);\n",
       "          const docLink = document.createElement('div');\n",
       "          docLink.innerHTML = docLinkHtml;\n",
       "          element.appendChild(docLink);\n",
       "        }\n",
       "      </script>\n",
       "    </div>\n",
       "  </div>\n",
       "  "
      ],
      "text/plain": [
       "                          review_id  ... score\n",
       "0  00003c6036f30f590c0ac435efb8739b  ...   7.1\n",
       "1  00004d18f186bf2489590dc415876f73  ...   7.5\n",
       "2  0000cf900cbb8667fad33a717e9b1cf4  ...  10.0\n",
       "3  0000df16edf19e7ad9dd8c5cd6f6925e  ...   5.4\n",
       "4  00025e1aa3ac32edb496db49e76bbd00  ...   6.7\n",
       "\n",
       "[5 rows x 4 columns]"
      ]
     },
     "execution_count": 3,
     "metadata": {},
     "output_type": "execute_result"
    }
   ],
   "source": [
    "import pandas as pd\n",
    "\n",
    "df = pd.read_csv(PATH_TO_TRAIN_DATA)\n",
    "df.head()"
   ]
  },
  {
   "cell_type": "code",
   "execution_count": 4,
   "metadata": {
    "colab": {
     "base_uri": "https://localhost:8080/"
    },
    "id": "_d5e79bKzd_f",
    "outputId": "84463f29-f83f-47ce-94e4-4950812ba710"
   },
   "outputs": [
    {
     "data": {
      "text/plain": [
       "(100000, 4)"
      ]
     },
     "execution_count": 4,
     "metadata": {},
     "output_type": "execute_result"
    }
   ],
   "source": [
    "df.shape"
   ]
  },
  {
   "cell_type": "code",
   "execution_count": null,
   "metadata": {
    "id": "zND3hnalslyU"
   },
   "outputs": [],
   "source": [
    "# df[df['review_id'] == '7133826251118ac1d7926a9201ba2575']['negative'].iloc[0]"
   ]
  },
  {
   "cell_type": "markdown",
   "metadata": {
    "id": "bpLk8dXBXHaP"
   },
   "source": [
    "Предобработка текста может сказываться на качестве вашей модели.\n",
    "Сделаем небольшой препроцессинг текстов: удалим знаки препинания, приведем все слова к нижнему регистру. \n",
    "Однако можно не ограничиваться этим набором преобразований. Подумайте, что еще можно сделать с текстами, чтобы помочь будущим моделям? Добавьте преобразования, которые могли бы помочь по вашему мнению."
   ]
  },
  {
   "cell_type": "markdown",
   "metadata": {
    "id": "7BFZaa-ssU_v"
   },
   "source": [
    "Идеи для препроцессинга:\n",
    "* Добавление меток начала/конца предложения/отзыва\n",
    "* BPE\n",
    "* Отличаем токены позитива и негатива\n",
    "* Лемматизация"
   ]
  },
  {
   "cell_type": "markdown",
   "metadata": {
    "id": "SfkhII5AXHaP"
   },
   "source": [
    "Также мы добавили разбиение текстов на токены. Теперь каждая строка-ревью стала массивом токенов."
   ]
  },
  {
   "cell_type": "code",
   "execution_count": 5,
   "metadata": {
    "colab": {
     "base_uri": "https://localhost:8080/"
    },
    "id": "tv-gbEKGXHaQ",
    "outputId": "df91d37e-8168-46e6-a9a4-f7f1d9e47cd2"
   },
   "outputs": [
    {
     "name": "stdout",
     "output_type": "stream",
     "text": [
      "[nltk_data] Downloading package punkt to /root/nltk_data...\n",
      "[nltk_data]   Unzipping tokenizers/punkt.zip.\n"
     ]
    }
   ],
   "source": [
    "import string\n",
    "\n",
    "import nltk\n",
    "nltk.download('punkt')\n",
    "\n",
    "from nltk.tokenize import word_tokenize\n",
    "\n",
    "def process_lower(text):\n",
    "    return text.strip().lower()\n",
    "\n",
    "def process_tokenize(text):\n",
    "    return [word for word in word_tokenize(text) if word not in string.punctuation]"
   ]
  },
  {
   "cell_type": "code",
   "execution_count": 7,
   "metadata": {
    "id": "vQA3KgAh3WUF"
   },
   "outputs": [],
   "source": [
    "df['negative'] = df['negative'].apply(process_lower)\n",
    "df['positive'] = df['positive'].apply(process_lower)"
   ]
  },
  {
   "cell_type": "markdown",
   "metadata": {
    "id": "OrVuJy2DzLt3"
   },
   "source": [
    "Судя по статистике с Kaggle, в негативных отзывах есть две довольно частые категории: `'No Negative'` ($25\\%$) и `' Nothing'` ($3\\%$). Они означают одно и то же, поэтому имеет смысл объединить их в одну."
   ]
  },
  {
   "cell_type": "code",
   "execution_count": 8,
   "metadata": {
    "id": "yk9eNXWtzLP2"
   },
   "outputs": [],
   "source": [
    "def process_rare_negative(text):\n",
    "    return 'no negative' if (text == 'nothing') or (text == 'no') else text\n",
    "\n",
    "df['negative'] = df['negative'].apply(process_rare_negative)"
   ]
  },
  {
   "cell_type": "code",
   "execution_count": 9,
   "metadata": {
    "id": "-X1bXhROXHaQ"
   },
   "outputs": [],
   "source": [
    "df['negative'] = df['negative'].apply(process_tokenize)\n",
    "df['positive'] = df['positive'].apply(process_tokenize)"
   ]
  },
  {
   "cell_type": "code",
   "execution_count": 6,
   "metadata": {
    "id": "MewBIvp9XHaQ"
   },
   "outputs": [],
   "source": [
    "from sklearn.model_selection import train_test_split\n",
    "\n",
    "df_train, df_test = train_test_split(df, random_state=1412) # <- для локального тестирования"
   ]
  },
  {
   "cell_type": "markdown",
   "metadata": {
    "id": "3gu1EIc3XHaR"
   },
   "source": [
    "### Часть 1. 1 балл"
   ]
  },
  {
   "cell_type": "markdown",
   "metadata": {
    "id": "DM7ZD9gyXHaR"
   },
   "source": [
    "Обучите логистическую или линейную регрессию на TF-IDF векторах текстов."
   ]
  },
  {
   "cell_type": "code",
   "execution_count": 11,
   "metadata": {
    "id": "2x4yCjh8XHaR"
   },
   "outputs": [],
   "source": [
    "from sklearn.feature_extraction.text import TfidfVectorizer\n",
    "from scipy.sparse import hstack\n",
    "\n",
    "def identity_tokenizer(text):\n",
    "    return text\n",
    "\n",
    "def get_tfidf_features(df_train, df_test):\n",
    "    tfidf_neg = TfidfVectorizer(tokenizer=identity_tokenizer, lowercase=False)\n",
    "    tfidf_pos = TfidfVectorizer(tokenizer=identity_tokenizer, lowercase=False)\n",
    "    X_train = hstack([tfidf_neg.fit_transform(df_train['negative']),\n",
    "                    tfidf_pos.fit_transform(df_train['positive'])])\n",
    "    X_test = hstack([tfidf_neg.transform(df_test['negative']),\n",
    "                    tfidf_pos.transform(df_test['positive'])])\n",
    "    return X_train, X_test"
   ]
  },
  {
   "cell_type": "code",
   "execution_count": null,
   "metadata": {
    "id": "PIvigYoUfUzN"
   },
   "outputs": [],
   "source": [
    "# tfidf_neg.fit(df['negative'])\n",
    "# tfidf_pos.fit(df['positive'])"
   ]
  },
  {
   "cell_type": "code",
   "execution_count": 12,
   "metadata": {
    "colab": {
     "base_uri": "https://localhost:8080/"
    },
    "id": "RVSglm3hXMH2",
    "outputId": "8a235693-2f18-42a1-ce1b-c2b771d9bc43"
   },
   "outputs": [
    {
     "name": "stdout",
     "output_type": "stream",
     "text": [
      "Train MAE: 0.7017711052453421\n",
      "Val MAE: 0.8317001931191635\n"
     ]
    }
   ],
   "source": [
    "from sklearn.linear_model import Ridge\n",
    "from sklearn.metrics import mean_absolute_error\n",
    "\n",
    "X_train, X_test, y_train, y_test = *get_tfidf_features(df_train, df_test), df_train['score'], df_test['score']\n",
    "model = Ridge()\n",
    "model.fit(X_train, y_train)\n",
    "\n",
    "print(f'Train MAE: {mean_absolute_error(y_train, model.predict(X_train))}')\n",
    "print(f'Val MAE: {mean_absolute_error(y_test, model.predict(X_test))}')"
   ]
  },
  {
   "cell_type": "code",
   "execution_count": 13,
   "metadata": {
    "colab": {
     "base_uri": "https://localhost:8080/"
    },
    "id": "_Hq7CT6MlKz3",
    "outputId": "781a2ca7-d4e3-40ef-d580-ba1128f3b217"
   },
   "outputs": [
    {
     "name": "stdout",
     "output_type": "stream",
     "text": [
      "Train MAE: 0.9820603420499885\n",
      "Val MAE: 1.012505571474943\n"
     ]
    }
   ],
   "source": [
    "from sklearn.linear_model import SGDRegressor\n",
    "\n",
    "mae_model = SGDRegressor(loss='epsilon_insensitive', epsilon=0)\n",
    "mae_model.fit(X_train, y_train)\n",
    "\n",
    "print(f'Train MAE: {mean_absolute_error(y_train, mae_model.predict(X_train))}')\n",
    "print(f'Val MAE: {mean_absolute_error(y_test, mae_model.predict(X_test))}')"
   ]
  },
  {
   "cell_type": "markdown",
   "metadata": {
    "id": "_He7NY8kKbsm"
   },
   "source": [
    "Источники:\n",
    "* https://stackoverflow.com/questions/48671270/use-sklearn-tfidfvectorizer-with-already-tokenized-inputs"
   ]
  },
  {
   "cell_type": "markdown",
   "metadata": {
    "id": "osiQDq9Mku_y"
   },
   "source": [
    "Занимательно, что:\n",
    "* Если фитить `TfidfVectorizer` на всех данных (включая тестовые), то качество примерно то же;\n",
    "* Если обучать `SGDRegressor` на MAE, то качетво хуже."
   ]
  },
  {
   "cell_type": "markdown",
   "metadata": {
    "id": "0CufFcfHXhuo"
   },
   "source": [
    "Предскажите этой моделью тестовые данные из [соревнования](https://www.kaggle.com/t/3e8fa6cec6d048bf8e93fb72e441d88c) и сделайте сабмит. Какой у вас получился скор? Прикрепите скриншот из кэггла."
   ]
  },
  {
   "cell_type": "code",
   "execution_count": 14,
   "metadata": {
    "colab": {
     "base_uri": "https://localhost:8080/",
     "height": 206
    },
    "id": "-JLOjW6jn-QT",
    "outputId": "0a659b76-507c-4be7-af63-8e6aa4e8d616"
   },
   "outputs": [
    {
     "data": {
      "text/html": [
       "\n",
       "  <div id=\"df-bf602b3f-c0c2-45f6-bd16-c6946273e081\">\n",
       "    <div class=\"colab-df-container\">\n",
       "      <div>\n",
       "<style scoped>\n",
       "    .dataframe tbody tr th:only-of-type {\n",
       "        vertical-align: middle;\n",
       "    }\n",
       "\n",
       "    .dataframe tbody tr th {\n",
       "        vertical-align: top;\n",
       "    }\n",
       "\n",
       "    .dataframe thead th {\n",
       "        text-align: right;\n",
       "    }\n",
       "</style>\n",
       "<table border=\"1\" class=\"dataframe\">\n",
       "  <thead>\n",
       "    <tr style=\"text-align: right;\">\n",
       "      <th></th>\n",
       "      <th>review_id</th>\n",
       "      <th>negative</th>\n",
       "      <th>positive</th>\n",
       "    </tr>\n",
       "  </thead>\n",
       "  <tbody>\n",
       "    <tr>\n",
       "      <th>0</th>\n",
       "      <td>00026f564b258ad5159aab07c357c4ca</td>\n",
       "      <td>Other than the location everything else was h...</td>\n",
       "      <td>Just the location</td>\n",
       "    </tr>\n",
       "    <tr>\n",
       "      <th>1</th>\n",
       "      <td>000278c73da08f4fcb857fcfe4ac6417</td>\n",
       "      <td>No UK TV but this was a minor point as we wer...</td>\n",
       "      <td>Great location very comfortable clean breakfa...</td>\n",
       "    </tr>\n",
       "    <tr>\n",
       "      <th>2</th>\n",
       "      <td>000404f843e756fe3b2a477dbefa5bd4</td>\n",
       "      <td>A tiny noisy room VERY deceptively photographed</td>\n",
       "      <td>The breakfast booked the preceding night but ...</td>\n",
       "    </tr>\n",
       "    <tr>\n",
       "      <th>3</th>\n",
       "      <td>000a66d32bcf305148d789ac156dd512</td>\n",
       "      <td>Noisy various electrical devices kicking in r...</td>\n",
       "      <td>Great location Nice bathroom</td>\n",
       "    </tr>\n",
       "    <tr>\n",
       "      <th>4</th>\n",
       "      <td>000bf1d8c5110701f459ffbedbf0d546</td>\n",
       "      <td>No Negative</td>\n",
       "      <td>Great location and friendly staff</td>\n",
       "    </tr>\n",
       "  </tbody>\n",
       "</table>\n",
       "</div>\n",
       "      <button class=\"colab-df-convert\" onclick=\"convertToInteractive('df-bf602b3f-c0c2-45f6-bd16-c6946273e081')\"\n",
       "              title=\"Convert this dataframe to an interactive table.\"\n",
       "              style=\"display:none;\">\n",
       "        \n",
       "  <svg xmlns=\"http://www.w3.org/2000/svg\" height=\"24px\"viewBox=\"0 0 24 24\"\n",
       "       width=\"24px\">\n",
       "    <path d=\"M0 0h24v24H0V0z\" fill=\"none\"/>\n",
       "    <path d=\"M18.56 5.44l.94 2.06.94-2.06 2.06-.94-2.06-.94-.94-2.06-.94 2.06-2.06.94zm-11 1L8.5 8.5l.94-2.06 2.06-.94-2.06-.94L8.5 2.5l-.94 2.06-2.06.94zm10 10l.94 2.06.94-2.06 2.06-.94-2.06-.94-.94-2.06-.94 2.06-2.06.94z\"/><path d=\"M17.41 7.96l-1.37-1.37c-.4-.4-.92-.59-1.43-.59-.52 0-1.04.2-1.43.59L10.3 9.45l-7.72 7.72c-.78.78-.78 2.05 0 2.83L4 21.41c.39.39.9.59 1.41.59.51 0 1.02-.2 1.41-.59l7.78-7.78 2.81-2.81c.8-.78.8-2.07 0-2.86zM5.41 20L4 18.59l7.72-7.72 1.47 1.35L5.41 20z\"/>\n",
       "  </svg>\n",
       "      </button>\n",
       "      \n",
       "  <style>\n",
       "    .colab-df-container {\n",
       "      display:flex;\n",
       "      flex-wrap:wrap;\n",
       "      gap: 12px;\n",
       "    }\n",
       "\n",
       "    .colab-df-convert {\n",
       "      background-color: #E8F0FE;\n",
       "      border: none;\n",
       "      border-radius: 50%;\n",
       "      cursor: pointer;\n",
       "      display: none;\n",
       "      fill: #1967D2;\n",
       "      height: 32px;\n",
       "      padding: 0 0 0 0;\n",
       "      width: 32px;\n",
       "    }\n",
       "\n",
       "    .colab-df-convert:hover {\n",
       "      background-color: #E2EBFA;\n",
       "      box-shadow: 0px 1px 2px rgba(60, 64, 67, 0.3), 0px 1px 3px 1px rgba(60, 64, 67, 0.15);\n",
       "      fill: #174EA6;\n",
       "    }\n",
       "\n",
       "    [theme=dark] .colab-df-convert {\n",
       "      background-color: #3B4455;\n",
       "      fill: #D2E3FC;\n",
       "    }\n",
       "\n",
       "    [theme=dark] .colab-df-convert:hover {\n",
       "      background-color: #434B5C;\n",
       "      box-shadow: 0px 1px 3px 1px rgba(0, 0, 0, 0.15);\n",
       "      filter: drop-shadow(0px 1px 2px rgba(0, 0, 0, 0.3));\n",
       "      fill: #FFFFFF;\n",
       "    }\n",
       "  </style>\n",
       "\n",
       "      <script>\n",
       "        const buttonEl =\n",
       "          document.querySelector('#df-bf602b3f-c0c2-45f6-bd16-c6946273e081 button.colab-df-convert');\n",
       "        buttonEl.style.display =\n",
       "          google.colab.kernel.accessAllowed ? 'block' : 'none';\n",
       "\n",
       "        async function convertToInteractive(key) {\n",
       "          const element = document.querySelector('#df-bf602b3f-c0c2-45f6-bd16-c6946273e081');\n",
       "          const dataTable =\n",
       "            await google.colab.kernel.invokeFunction('convertToInteractive',\n",
       "                                                     [key], {});\n",
       "          if (!dataTable) return;\n",
       "\n",
       "          const docLinkHtml = 'Like what you see? Visit the ' +\n",
       "            '<a target=\"_blank\" href=https://colab.research.google.com/notebooks/data_table.ipynb>data table notebook</a>'\n",
       "            + ' to learn more about interactive tables.';\n",
       "          element.innerHTML = '';\n",
       "          dataTable['output_type'] = 'display_data';\n",
       "          await google.colab.output.renderOutput(dataTable, element);\n",
       "          const docLink = document.createElement('div');\n",
       "          docLink.innerHTML = docLinkHtml;\n",
       "          element.appendChild(docLink);\n",
       "        }\n",
       "      </script>\n",
       "    </div>\n",
       "  </div>\n",
       "  "
      ],
      "text/plain": [
       "                          review_id  ...                                           positive\n",
       "0  00026f564b258ad5159aab07c357c4ca  ...                                 Just the location \n",
       "1  000278c73da08f4fcb857fcfe4ac6417  ...   Great location very comfortable clean breakfa...\n",
       "2  000404f843e756fe3b2a477dbefa5bd4  ...   The breakfast booked the preceding night but ...\n",
       "3  000a66d32bcf305148d789ac156dd512  ...                       Great location Nice bathroom\n",
       "4  000bf1d8c5110701f459ffbedbf0d546  ...                  Great location and friendly staff\n",
       "\n",
       "[5 rows x 3 columns]"
      ]
     },
     "execution_count": 14,
     "metadata": {},
     "output_type": "execute_result"
    }
   ],
   "source": [
    "test_data = pd.read_csv(PATH_TO_TEST_DATA)\n",
    "test_data.head()"
   ]
  },
  {
   "cell_type": "code",
   "execution_count": 15,
   "metadata": {
    "id": "P539bQRipJeB"
   },
   "outputs": [],
   "source": [
    "test_data['negative'] = test_data['negative'].apply(process_lower)\n",
    "test_data['positive'] = test_data['positive'].apply(process_lower)\n",
    "\n",
    "test_data['negative'] = test_data['negative'].apply(process_rare_negative)\n",
    "\n",
    "test_data['negative'] = test_data['negative'].apply(process_tokenize)\n",
    "test_data['positive'] = test_data['positive'].apply(process_tokenize)"
   ]
  },
  {
   "cell_type": "code",
   "execution_count": null,
   "metadata": {
    "id": "a9OLsDdXpAQc"
   },
   "outputs": [],
   "source": [
    "X_train, X_test, y_train = *get_tfidf_features(df, test_data), df['score']\n",
    "model = Ridge()\n",
    "model.fit(X_train, y_train)\n",
    "y_pred = model.predict(X_test)"
   ]
  },
  {
   "cell_type": "code",
   "execution_count": null,
   "metadata": {
    "id": "GHWdein-qHNY"
   },
   "outputs": [],
   "source": [
    "submission_1 = pd.DataFrame({'review_id': test_data['review_id'],\n",
    "                             'score': y_pred})\n",
    "submission_1.to_csv('submission_1.csv', index=False)"
   ]
  },
  {
   "cell_type": "code",
   "execution_count": null,
   "metadata": {
    "colab": {
     "base_uri": "https://localhost:8080/"
    },
    "id": "-LuqlnF2rVum",
    "outputId": "330e4a7a-3608-47cc-8a4f-c440a4020401"
   },
   "outputs": [
    {
     "name": "stdout",
     "output_type": "stream",
     "text": [
      "Warning: Looks like you're using an outdated API Version, please consider updating (server 1.5.12 / client 1.5.4)\n",
      "100% 995k/995k [00:00<00:00, 2.19MB/s]\n",
      "Successfully submitted to Intro to deep learning 2021, homework 3"
     ]
    }
   ],
   "source": [
    "!kaggle competitions submit -c intro-to-dl-hw03 -f submission_1.csv -m \"Ridge\""
   ]
  },
  {
   "attachments": {
    "s1.png": {
     "image/png": "[encoded data removed]"
    }
   },
   "cell_type": "markdown",
   "metadata": {
    "id": "MbbhT1LTvX0M"
   },
   "source": [
    "Посылка в Kaggle:  \n",
    "\n",
    "![s1.png](attachment:s1.png)"
   ]
  },
  {
   "cell_type": "markdown",
   "metadata": {
    "id": "E-4Zve40XHaS"
   },
   "source": [
    "### Часть 2. 2 балла"
   ]
  },
  {
   "cell_type": "markdown",
   "metadata": {
    "id": "cYFL-5yFXHaS"
   },
   "source": [
    "Обучите логистическую или линейную регрессию на усредненных Word2Vec векторах. "
   ]
  },
  {
   "cell_type": "code",
   "execution_count": 17,
   "metadata": {
    "colab": {
     "base_uri": "https://localhost:8080/"
    },
    "id": "u-H8B88Lvgft",
    "outputId": "94426c0c-9067-4e8f-9e95-9bd645a984bd"
   },
   "outputs": [
    {
     "data": {
      "text/plain": [
       "W2VTransformer(min_count=1)"
      ]
     },
     "execution_count": 17,
     "metadata": {},
     "output_type": "execute_result"
    }
   ],
   "source": [
    "import numpy as np\n",
    "from gensim.sklearn_api import W2VTransformer\n",
    "\n",
    "w2v_tr = W2VTransformer(min_count=1) # !!!\n",
    "w2v_tr.fit(df_train['negative'])"
   ]
  },
  {
   "cell_type": "code",
   "execution_count": 18,
   "metadata": {
    "colab": {
     "base_uri": "https://localhost:8080/"
    },
    "id": "t99M1Cxx1lds",
    "outputId": "87d5fcaa-b37e-4487-f33e-ca1b8dfa0fde"
   },
   "outputs": [
    {
     "data": {
      "text/plain": [
       "(100,)"
      ]
     },
     "execution_count": 18,
     "metadata": {},
     "output_type": "execute_result"
    }
   ],
   "source": [
    "np.dot(np.array([0.5, 0.5]), w2v_tr.transform(['no', 'car'])).shape # weighting"
   ]
  },
  {
   "cell_type": "code",
   "execution_count": 19,
   "metadata": {
    "colab": {
     "base_uri": "https://localhost:8080/"
    },
    "id": "7wWuVymHmlyy",
    "outputId": "a4436442-3d2d-4274-c4da-1804d38904c5"
   },
   "outputs": [
    {
     "data": {
      "text/plain": [
       "array([[  1,   2,   3,  10, 100,   8,  52],\n",
       "       [  4,   5,   6,  69, 420,   7,  77]])"
      ]
     },
     "execution_count": 19,
     "metadata": {},
     "output_type": "execute_result"
    }
   ],
   "source": [
    "A = [[1, 2, 3, 10, 100],\n",
    "     [4, 5, 6, 69, 420]]\n",
    "B = [[8, 52],\n",
    "     [7, 77]]\n",
    "np.concatenate((A, B), axis=1)"
   ]
  },
  {
   "cell_type": "code",
   "execution_count": 20,
   "metadata": {
    "colab": {
     "base_uri": "https://localhost:8080/"
    },
    "id": "jpcCEhBDXHaS",
    "outputId": "e184ec10-ffef-4ff0-8146-863b191f3b20"
   },
   "outputs": [
    {
     "name": "stdout",
     "output_type": "stream",
     "text": [
      "Train MAE: 0.9597676739396098\n",
      "Val MAE: 0.9685203910947886\n"
     ]
    }
   ],
   "source": [
    "def embed_texts(w2v_tr, texts, size):\n",
    "    return np.array([w2v_tr.transform(sentence).mean(axis=0) if len(sentence) != 0 else np.zeros(size) \\\n",
    "                     for sentence in texts])\n",
    "\n",
    "def get_w2v_features(df_train, df_test, embed_func, size=100):\n",
    "    w2v_neg = W2VTransformer(size=size, min_count=1).fit(pd.concat([df_train['negative'], df_test['negative']])) # it's OK\n",
    "    w2v_pos = W2VTransformer(size=size, min_count=1).fit(pd.concat([df_train['positive'], df_test['positive']]))\n",
    "    X_train = np.concatenate((embed_func(w2v_neg, df_train['negative'], size),\n",
    "                              embed_func(w2v_pos, df_train['positive'], size)), axis=1)\n",
    "    X_test = np.concatenate((embed_func(w2v_neg, df_test['negative'], size),\n",
    "                             embed_func(w2v_pos, df_test['positive'], size)), axis=1)\n",
    "    return X_train, X_test\n",
    "\n",
    "def simple_w2v(df_train, df_test, emb_size=100):\n",
    "    X_train, X_test, y_train, y_test = *get_w2v_features(df_train, df_test, embed_texts, emb_size), df_train['score'], df_test['score']\n",
    "    model = Ridge()\n",
    "    model.fit(X_train, y_train)\n",
    "    return mean_absolute_error(y_train, model.predict(X_train)), mean_absolute_error(y_test, model.predict(X_test))\n",
    "\n",
    "train_error, test_error = simple_w2v(df_train, df_test)\n",
    "print(f'Train MAE: {train_error}')\n",
    "print(f'Val MAE: {test_error}')"
   ]
  },
  {
   "cell_type": "markdown",
   "metadata": {
    "id": "KWrIciGxXHaS"
   },
   "source": [
    "Усредняя w2v вектора, мы предполагаем, что каждое слово имеет равноценный вклад в смысл предложения, однако это может быть не совсем так. Теперь попробуйте воспользоваться другой концепцией и перевзвесить слова при получении итогового эмбеддинга текста. В качестве весов используйте IDF (Inverse document frequency)"
   ]
  },
  {
   "cell_type": "code",
   "execution_count": 21,
   "metadata": {
    "colab": {
     "base_uri": "https://localhost:8080/"
    },
    "id": "mQSuuLP9XHaS",
    "outputId": "c723349d-0406-4b5a-8e15-8a2c609d2251"
   },
   "outputs": [
    {
     "name": "stderr",
     "output_type": "stream",
     "text": [
      "/usr/local/lib/python3.7/dist-packages/sklearn/feature_extraction/text.py:517: UserWarning: The parameter 'token_pattern' will not be used since 'tokenizer' is not None'\n",
      "  \"The parameter 'token_pattern' will not be used\"\n",
      "/usr/local/lib/python3.7/dist-packages/sklearn/feature_extraction/text.py:517: UserWarning: The parameter 'token_pattern' will not be used since 'tokenizer' is not None'\n",
      "  \"The parameter 'token_pattern' will not be used\"\n",
      "/usr/local/lib/python3.7/dist-packages/sklearn/feature_extraction/text.py:517: UserWarning: The parameter 'token_pattern' will not be used since 'tokenizer' is not None'\n",
      "  \"The parameter 'token_pattern' will not be used\"\n",
      "/usr/local/lib/python3.7/dist-packages/sklearn/feature_extraction/text.py:517: UserWarning: The parameter 'token_pattern' will not be used since 'tokenizer' is not None'\n",
      "  \"The parameter 'token_pattern' will not be used\"\n"
     ]
    },
    {
     "name": "stdout",
     "output_type": "stream",
     "text": [
      "Train MAE: 0.9514482548446263\n",
      "Val MAE: 0.9693906858799992\n"
     ]
    }
   ],
   "source": [
    "def get_idf_vector(sentence, idf_dict):\n",
    "    return np.array([idf_dict[token] for token in sentence])\n",
    "\n",
    "def embed_texts_idf(w2v_tr, texts, size):\n",
    "    tfidf = TfidfVectorizer(tokenizer=identity_tokenizer, lowercase=False).fit(texts)\n",
    "    idf_dict = dict(zip(tfidf.get_feature_names_out(), tfidf.idf_))\n",
    "    return np.array([np.dot(get_idf_vector(sentence, idf_dict), w2v_tr.transform(sentence)) if len(sentence) != 0 else np.zeros(size) \\\n",
    "                     for sentence in texts])\n",
    "\n",
    "def w2v_with_idf(df_train, df_test, emb_size=100):\n",
    "    X_train, X_test, y_train, y_test = *get_w2v_features(df_train, df_test, embed_texts_idf, emb_size), df_train['score'], df_test['score']\n",
    "    model = Ridge()\n",
    "    model.fit(X_train, y_train)\n",
    "    return mean_absolute_error(y_train, model.predict(X_train)), mean_absolute_error(y_test, model.predict(X_test))\n",
    "\n",
    "train_error, test_error = w2v_with_idf(df_train, df_test)\n",
    "print(f'Train MAE: {train_error}')\n",
    "print(f'Val MAE: {test_error}')"
   ]
  },
  {
   "cell_type": "markdown",
   "metadata": {
    "id": "YTcJMo3Z4A8E"
   },
   "source": [
    "Источники:\n",
    "* https://datascience.stackexchange.com/a/44048"
   ]
  },
  {
   "cell_type": "markdown",
   "metadata": {
    "id": "0ZXh_TqsCkqw"
   },
   "source": [
    "Качество не очень впечатляет :( Сделаем лемматизацию:"
   ]
  },
  {
   "cell_type": "code",
   "execution_count": 23,
   "metadata": {
    "colab": {
     "base_uri": "https://localhost:8080/"
    },
    "id": "b-NrHvVYC0OT",
    "outputId": "9b4c5231-5cd8-41da-a501-f51a163f112d"
   },
   "outputs": [
    {
     "name": "stdout",
     "output_type": "stream",
     "text": [
      "[nltk_data] Downloading package wordnet to /root/nltk_data...\n",
      "[nltk_data]   Package wordnet is already up-to-date!\n"
     ]
    },
    {
     "data": {
      "text/plain": [
       "81543                                     [location, only]\n",
       "87964    [the, location, wa, perfect, the, staff, were,...\n",
       "18772    [very, good, clean, room, close, to, centre, o...\n",
       "54486    [the, room, were, very, clean, and, the, bathr...\n",
       "99369           [staff, very, good, breakfast, very, good]\n",
       "                               ...                        \n",
       "94061    [food, great, value, with, big, serving, greek...\n",
       "97855       [1, min, from, the, central, railway, station]\n",
       "45619                                       [no, positive]\n",
       "84167                                       [no, positive]\n",
       "40311                                [nothing, stand, out]\n",
       "Name: positive, Length: 25000, dtype: object"
      ]
     },
     "execution_count": 23,
     "metadata": {},
     "output_type": "execute_result"
    }
   ],
   "source": [
    "from nltk.stem import WordNetLemmatizer\n",
    "nltk.download('wordnet')\n",
    "\n",
    "def process_lemmatize(text):\n",
    "    lemmatizer = WordNetLemmatizer()\n",
    "    return [lemmatizer.lemmatize(word) for word in text]\n",
    "\n",
    "df_train['negative'].apply(process_lemmatize)\n",
    "df_train['positive'].apply(process_lemmatize)\n",
    "df_test['negative'].apply(process_lemmatize)\n",
    "df_test['positive'].apply(process_lemmatize)"
   ]
  },
  {
   "cell_type": "code",
   "execution_count": 24,
   "metadata": {
    "colab": {
     "base_uri": "https://localhost:8080/"
    },
    "id": "nlNbmDsCN5Q2",
    "outputId": "021c8a29-174a-462b-f48c-c48355081fc4"
   },
   "outputs": [
    {
     "name": "stdout",
     "output_type": "stream",
     "text": [
      "Train MAE: 0.9419496986943472\n",
      "Val MAE: 0.9511018284482273\n"
     ]
    }
   ],
   "source": [
    "train_error, test_error = simple_w2v(df_train, df_test, emb_size=500)\n",
    "print(f'Train MAE: {train_error}')\n",
    "print(f'Val MAE: {test_error}')"
   ]
  },
  {
   "cell_type": "markdown",
   "metadata": {
    "id": "q2YKeuCbX9k6"
   },
   "source": [
    "Небольшой микро-прирост имеется, но этого всё ещё не достаточно."
   ]
  },
  {
   "cell_type": "markdown",
   "metadata": {
    "id": "4s-6HQo0XHaT"
   },
   "source": [
    "Проведите эксперименты с размерностью эмбеддинга. Для каждого из двух методов постройте график зависимости качества модели от размерности эмбеддинга. \n",
    "\n"
   ]
  },
  {
   "cell_type": "code",
   "execution_count": 25,
   "metadata": {
    "id": "kZWGr1jpSEto"
   },
   "outputs": [],
   "source": [
    "from matplotlib import pyplot as plt\n",
    "import seaborn as sns\n",
    "\n",
    "%matplotlib inline\n",
    "%config InlineBackend.figure_format = 'retina'\n",
    "sns.set(style='darkgrid')"
   ]
  },
  {
   "cell_type": "code",
   "execution_count": null,
   "metadata": {
    "id": "BnklDXcjS6pj"
   },
   "outputs": [],
   "source": [
    "from tqdm.notebook import tqdm\n",
    "\n",
    "train_errors = {'simple_w2v': [], 'w2v_with_idf': []}\n",
    "val_errors = {'simple_w2v': [], 'w2v_with_idf': []}\n",
    "emb_sizes = [50, 100, 200, 300, 500, 750, 1000]\n",
    "\n",
    "for emb_size in tqdm(emb_sizes):\n",
    "    train_error, val_error = simple_w2v(df_train, df_test, emb_size=emb_size)\n",
    "    train_errors['simple_w2v'].append(train_error)\n",
    "    val_errors['simple_w2v'].append(val_error)\n",
    "\n",
    "    train_error, val_error = w2v_with_idf(df_train, df_test, emb_size=emb_size)\n",
    "    train_errors['w2v_with_idf'].append(train_error)\n",
    "    val_errors['w2v_with_idf'].append(val_error)"
   ]
  },
  {
   "cell_type": "code",
   "execution_count": 27,
   "metadata": {
    "colab": {
     "base_uri": "https://localhost:8080/",
     "height": 409
    },
    "id": "nJwAJwHlVO2H",
    "outputId": "2bf2d860-d2b0-439d-8dcb-8a15ae325153"
   },
   "outputs": [
    {
     "data": {
      "image/png": "[encoded data removed]",
      "text/plain": [
       "<Figure size 1296x432 with 2 Axes>"
      ]
     },
     "metadata": {
      "image/png": {
       "height": 392,
       "width": 1068
      }
     },
     "output_type": "display_data"
    }
   ],
   "source": [
    "plt.figure(figsize=(18, 6))\n",
    "\n",
    "plt.subplot2grid((1, 2), (0, 0))\n",
    "plt.plot(emb_sizes, train_errors['simple_w2v'], label='train')\n",
    "plt.plot(emb_sizes, val_errors['simple_w2v'], label='val')\n",
    "plt.xlabel('emb_size')\n",
    "plt.ylabel('MAE')\n",
    "plt.title('simple_w2v')\n",
    "plt.legend()\n",
    "\n",
    "plt.subplot2grid((1, 2), (0, 1))\n",
    "plt.plot(emb_sizes, train_errors['w2v_with_idf'], label='train')\n",
    "plt.plot(emb_sizes, val_errors['w2v_with_idf'], label='val')\n",
    "plt.xlabel('emb_size')\n",
    "plt.ylabel('MAE')\n",
    "plt.title('w2v_with_idf')\n",
    "plt.legend()\n",
    "\n",
    "plt.show()"
   ]
  },
  {
   "cell_type": "markdown",
   "metadata": {
    "id": "ktSoJHXaSCVI"
   },
   "source": [
    "#### Сделайте выводы:"
   ]
  },
  {
   "cell_type": "markdown",
   "metadata": {
    "id": "d_ohpLxFcrfj"
   },
   "source": [
    "Из графиков видно, что методу с усреднением w2v-векторов более-менее всё равно на размер эмбеддинга, начиная с $200$, &mdash; значения метрик с этого момента остаются примерно одинаковыми и, к сожалению, не очень хорошими.\n",
    "\n",
    "А вот метод со взвешиванием w2v-векторов idf-ами показал себя куда лучше: с увеличением размерности эмбеддинга ошибка становится всё меньше. Но в конце, правда, убывает уже менее стремительно, чем в начале.\n",
    "\n",
    "**Вывод:** взвешивание idf-ами + эмбеддинги размерности $\\geq 500$ = круто 😎"
   ]
  },
  {
   "cell_type": "markdown",
   "metadata": {
    "id": "f29vizrmXHaT"
   },
   "source": [
    "Теперь попробуйте обучить логистическую или линейную регрессию на любых других эмбеддингах размерности $300$ и сравните качество с Word2Vec.\n"
   ]
  },
  {
   "cell_type": "markdown",
   "metadata": {
    "id": "khS3-aLGhj3h"
   },
   "source": [
    "Попробую использовать Doc2Vec:"
   ]
  },
  {
   "cell_type": "code",
   "execution_count": 28,
   "metadata": {
    "colab": {
     "base_uri": "https://localhost:8080/"
    },
    "id": "Yv33pg9VjOf9",
    "outputId": "8a467c41-770b-4cb0-f2ee-10db79e06f06"
   },
   "outputs": [
    {
     "name": "stdout",
     "output_type": "stream",
     "text": [
      "--- D2V 300 ---\n",
      "Train MAE: 1.0353184004635427\n",
      "Val MAE: 1.0507424794945037\n"
     ]
    }
   ],
   "source": [
    "from gensim.sklearn_api import D2VTransformer\n",
    "\n",
    "def embed_texts_d2v(d2v_tr, texts, size):\n",
    "    return np.array([d2v_tr.transform(sentence)[0] if len(sentence) != 0 else np.zeros(size) \\\n",
    "                     for sentence in texts])\n",
    "\n",
    "def get_d2v_features(df_train, df_test, size=300):\n",
    "    d2v_neg = D2VTransformer(size=size, min_count=1).fit(pd.concat([df_train['negative'], df_test['negative']]))\n",
    "    d2v_pos = D2VTransformer(size=size, min_count=1).fit(pd.concat([df_train['positive'], df_test['positive']]))\n",
    "    X_train = np.concatenate((embed_texts_d2v(d2v_neg, df_train['negative'], size),\n",
    "                              embed_texts_d2v(d2v_pos, df_train['positive'], size)), axis=1)\n",
    "    X_test = np.concatenate((embed_texts_d2v(d2v_neg, df_test['negative'], size),\n",
    "                             embed_texts_d2v(d2v_pos, df_test['positive'], size)), axis=1)\n",
    "    return X_train, X_test\n",
    "\n",
    "\n",
    "X_train, X_test, y_train, y_test = *get_d2v_features(df_train, df_test), df_train['score'], df_test['score']\n",
    "model = Ridge()\n",
    "model.fit(X_train, y_train)\n",
    "print('--- D2V 300 ---')\n",
    "print(f'Train MAE: {mean_absolute_error(y_train, model.predict(X_train))}')\n",
    "print(f'Val MAE: {mean_absolute_error(y_test, model.predict(X_test))}')"
   ]
  },
  {
   "cell_type": "code",
   "execution_count": 29,
   "metadata": {
    "colab": {
     "base_uri": "https://localhost:8080/"
    },
    "id": "5zhshmgHswoi",
    "outputId": "a3789dfb-186f-4686-a86e-dadee77f7ba4"
   },
   "outputs": [
    {
     "name": "stdout",
     "output_type": "stream",
     "text": [
      "--- W2V + IDF 300 ---\n",
      "Train MAE: 0.9103479276142162\n",
      "Val MAE: 0.927220362601065\n"
     ]
    }
   ],
   "source": [
    "print('--- W2V + IDF 300 ---')\n",
    "print(f'Train MAE: {train_errors[\"w2v_with_idf\"][3]}')\n",
    "print(f'Val MAE: {val_errors[\"w2v_with_idf\"][3]}')"
   ]
  },
  {
   "cell_type": "markdown",
   "metadata": {
    "id": "0wrcW1_2XD9v"
   },
   "source": [
    "#### Выводы:\n",
    "Очевидно, метод со взвешиванием w2v-векторов в клочья рвёт метод с d2v. Багов нет, я проверил; возможно, размер эмбеддинга маловат, поэтому такое плохое качество."
   ]
  },
  {
   "cell_type": "markdown",
   "metadata": {
    "id": "9AjabHMsXXBu"
   },
   "source": [
    "Предскажите вашей лучшей моделью из этого задания тестовые данные из [соревнования](https://www.kaggle.com/t/3e8fa6cec6d048bf8e93fb72e441d88c) и сделайте сабмит. Какой у вас получился скор? Прикрепите скриншот из кэггла."
   ]
  },
  {
   "cell_type": "markdown",
   "metadata": {
    "id": "TGX0RDfITwtX"
   },
   "source": [
    "Моя лучшая модель в этом задании &mdash; гребневая регрессия, обученная на w2v-векторах размерности $1000$, взвешенных idf-ами, будем использовать её:"
   ]
  },
  {
   "cell_type": "code",
   "execution_count": 30,
   "metadata": {
    "id": "Unwo_a1g1gjc"
   },
   "outputs": [],
   "source": [
    "test_data['negative'] = test_data['negative'].apply(process_lemmatize)\n",
    "test_data['positive'] = test_data['positive'].apply(process_lemmatize)"
   ]
  },
  {
   "cell_type": "code",
   "execution_count": null,
   "metadata": {
    "id": "iuO3D801U6p_"
   },
   "outputs": [],
   "source": [
    "X_train, X_test, y_train = *get_w2v_features(df, test_data, embed_texts_idf, 1000), df['score']\n",
    "model = Ridge()\n",
    "model.fit(X_train, y_train)\n",
    "y_pred = model.predict(X_test)\n",
    "\n",
    "submission_2 = pd.DataFrame({'review_id': test_data['review_id'],\n",
    "                             'score': y_pred})\n",
    "submission_2.to_csv('submission_2.csv', index=False)"
   ]
  },
  {
   "cell_type": "code",
   "execution_count": 32,
   "metadata": {
    "colab": {
     "base_uri": "https://localhost:8080/"
    },
    "id": "nxdJJSKRV1er",
    "outputId": "d188bf58-397f-463d-d0b1-aec5aace2664"
   },
   "outputs": [
    {
     "name": "stdout",
     "output_type": "stream",
     "text": [
      "Warning: Looks like you're using an outdated API Version, please consider updating (server 1.5.12 / client 1.5.4)\n",
      "100% 994k/994k [00:00<00:00, 3.17MB/s]\n",
      "Successfully submitted to Intro to deep learning 2021, homework 3"
     ]
    }
   ],
   "source": [
    "!kaggle competitions submit -c intro-to-dl-hw03 -f submission_2.csv -m \"Ridge w2v_with_idf 1000\""
   ]
  },
  {
   "attachments": {
    "s2.png": {
     "image/png": "[encoded data removed]"
    }
   },
   "cell_type": "markdown",
   "metadata": {
    "id": "ALNUP7IyXGwa"
   },
   "source": [
    "Посылка в Kaggle:  \n",
    "![s2.png](attachment:s2.png)"
   ]
  },
  {
   "cell_type": "markdown",
   "metadata": {
    "id": "EO5TZriLXHaT"
   },
   "source": [
    "### Часть 3. 4 балла"
   ]
  },
  {
   "cell_type": "markdown",
   "metadata": {
    "id": "5RNngNdWXHaT"
   },
   "source": [
    "Теперь давайте воспользуемся более продвинутыми методами обработки текстовых данных, которые мы проходили в нашем курсе. Обучите RNN/Transformer для предсказания пользовательской оценки."
   ]
  },
  {
   "cell_type": "markdown",
   "metadata": {
    "id": "_8YdTedQXHaT"
   },
   "source": [
    "Если будете обучать RNN, попробуйте ограничить максимальную длину предложения. Некоторые отзывы могут быть слишком длинные относительно остальных.\n",
    "\n",
    "Чтобы пользоваться DataLoader, все его элементы должны быть одинаковой размерности. Для этого вы можете добавить нулевой паддинг ко всем предложениям (см. пример `pad_sequence`)"
   ]
  },
  {
   "cell_type": "markdown",
   "metadata": {
    "id": "fLQ8gkgz4wj7"
   },
   "source": [
    "Источники:\n",
    "* https://youtu.be/L1i3M8xRdzQ\n",
    "* https://youtu.be/0u3ioSwev3s"
   ]
  },
  {
   "cell_type": "code",
   "execution_count": null,
   "metadata": {
    "id": "T5f28cj_fana"
   },
   "outputs": [],
   "source": [
    "!pip install transformers datasets"
   ]
  },
  {
   "cell_type": "code",
   "execution_count": 8,
   "metadata": {
    "id": "Q3Vof6oOe_5V"
   },
   "outputs": [],
   "source": [
    "import torch\n",
    "from torch import nn\n",
    "from torch.nn import functional as F\n",
    "\n",
    "import transformers as ts\n",
    "from datasets import Dataset"
   ]
  },
  {
   "cell_type": "code",
   "execution_count": 10,
   "metadata": {
    "colab": {
     "base_uri": "https://localhost:8080/"
    },
    "id": "ZYgPB7GGfHTQ",
    "outputId": "5a5c86b9-c59a-459b-a080-f60c85d702f9"
   },
   "outputs": [
    {
     "data": {
      "text/plain": [
       "(Dataset({\n",
       "     features: ['review_id', 'negative', 'positive', 'label'],\n",
       "     num_rows: 80000\n",
       " }), Dataset({\n",
       "     features: ['review_id', 'negative', 'positive', 'label'],\n",
       "     num_rows: 20000\n",
       " }), Dataset({\n",
       "     features: ['review_id', 'negative', 'positive'],\n",
       "     num_rows: 20000\n",
       " }))"
      ]
     },
     "execution_count": 10,
     "metadata": {},
     "output_type": "execute_result"
    }
   ],
   "source": [
    "MODEL_NAME = 'distilbert-base-uncased'\n",
    "\n",
    "data = pd.read_csv(PATH_TO_TRAIN_DATA)\n",
    "data.rename(columns={'score': 'label'}, inplace=True)\n",
    "train_data, val_data = train_test_split(data, test_size=0.2, random_state=1412)\n",
    "test_data = pd.read_csv(PATH_TO_TEST_DATA)\n",
    "\n",
    "train_data = Dataset.from_pandas(train_data).remove_columns(['__index_level_0__'])\n",
    "val_data = Dataset.from_pandas(val_data).remove_columns(['__index_level_0__'])\n",
    "test_data = Dataset.from_pandas(test_data) # no 'label' column\n",
    "\n",
    "train_data, val_data, test_data"
   ]
  },
  {
   "cell_type": "code",
   "execution_count": null,
   "metadata": {
    "id": "zjkz7_rCiQG5"
   },
   "outputs": [],
   "source": [
    "tokenizer = ts.AutoTokenizer.from_pretrained(MODEL_NAME, cache_dir='tmp')\n",
    "tokenizer"
   ]
  },
  {
   "cell_type": "code",
   "execution_count": 12,
   "metadata": {
    "colab": {
     "base_uri": "https://localhost:8080/",
     "height": 81,
     "referenced_widgets": [
      "bad5ce45e3c048dba6957289a7621dee",
      "278bfed4e6074261986ed407e53f8170",
      "762d57761d1e4fa59cd57cf88555032a",
      "aae0b91af2ce442c8e182ef6d141df5c",
      "e83a36ea41a544df82367fdcf45b45ba",
      "d4d1e1541a534859a58ceccb0f74464c",
      "3812b11c3c3d4450bdc2f46e86f01294",
      "62d34e5107794581ac831a244fb8a926",
      "be6c537ec9da438bb187fe0b976f5fcc",
      "61cbeef17be74b29b976280da1a5f5fe",
      "46711e8562d041548911c08c3c5dccfe",
      "7d29f5e0d0a143bf9f7dedf28cc03785",
      "a79e7bb768cd4ae28f5c9c60dd98c6c8",
      "3ef5459500304e86bc178173b48db1b6",
      "8c0ad0b09b3148978abdaa99fc19d5e5",
      "7320e3cba75f400781d6c141710f6a47",
      "5170f23c751e40fea0db88794dafec2f",
      "048161edaafb4238ae0e85ae68e72b35",
      "fa71a5db24954951ac349ec4aa44c119",
      "0f5e0a064d9c4178ba9e4d0f9d6e1910",
      "0c0332ee7a1b435f9281eb3eeaf85fd9",
      "6b5d088b246c4d18a76b9b0becad5209"
     ]
    },
    "id": "CP4LQo6Kid-E",
    "outputId": "cd1f15ab-75d5-43ff-974f-3f34c1d48d5a"
   },
   "outputs": [
    {
     "data": {
      "application/vnd.jupyter.widget-view+json": {
       "model_id": "bad5ce45e3c048dba6957289a7621dee",
       "version_major": 2,
       "version_minor": 0
      },
      "text/plain": [
       "0ex [00:00, ?ex/s]"
      ]
     },
     "metadata": {},
     "output_type": "display_data"
    },
    {
     "data": {
      "application/vnd.jupyter.widget-view+json": {
       "model_id": "7d29f5e0d0a143bf9f7dedf28cc03785",
       "version_major": 2,
       "version_minor": 0
      },
      "text/plain": [
       "0ex [00:00, ?ex/s]"
      ]
     },
     "metadata": {},
     "output_type": "display_data"
    }
   ],
   "source": [
    "def tokenize(instance):\n",
    "    return tokenizer(instance['negative'], instance['positive'], truncation=True)\n",
    "\n",
    "train_data = train_data.map(tokenize)\n",
    "val_data = val_data.map(tokenize)"
   ]
  },
  {
   "cell_type": "code",
   "execution_count": 13,
   "metadata": {
    "id": "MMFAnQP-AzGf"
   },
   "outputs": [],
   "source": [
    "train_data = train_data.remove_columns(['review_id', 'negative', 'positive'])\n",
    "val_data = val_data.remove_columns(['review_id', 'negative', 'positive'])"
   ]
  },
  {
   "cell_type": "code",
   "execution_count": 14,
   "metadata": {
    "colab": {
     "base_uri": "https://localhost:8080/"
    },
    "id": "F-tlU9ADBE9s",
    "outputId": "b8a918aa-4ced-415e-9676-977625f399be"
   },
   "outputs": [
    {
     "data": {
      "text/plain": [
       "DataCollatorWithPadding(tokenizer=PreTrainedTokenizerFast(name_or_path='distilbert-base-uncased', vocab_size=30522, model_max_len=512, is_fast=True, padding_side='right', truncation_side='right', special_tokens={'unk_token': '[UNK]', 'sep_token': '[SEP]', 'pad_token': '[PAD]', 'cls_token': '[CLS]', 'mask_token': '[MASK]'}), padding=True, max_length=None, pad_to_multiple_of=None, return_tensors='pt')"
      ]
     },
     "execution_count": 14,
     "metadata": {},
     "output_type": "execute_result"
    }
   ],
   "source": [
    "data_collator = ts.DataCollatorWithPadding(tokenizer)\n",
    "data_collator"
   ]
  },
  {
   "cell_type": "code",
   "execution_count": null,
   "metadata": {
    "id": "bUQbq5HZBSAw"
   },
   "outputs": [],
   "source": [
    "model = ts.AutoModelForSequenceClassification.from_pretrained(MODEL_NAME, num_labels=1, cache_dir='tmp')\n",
    "model"
   ]
  },
  {
   "cell_type": "code",
   "execution_count": 30,
   "metadata": {
    "id": "Uz6mzjj7Shcy"
   },
   "outputs": [],
   "source": [
    "if torch.cuda.is_available():\n",
    "    model.cuda()"
   ]
  },
  {
   "cell_type": "code",
   "execution_count": 31,
   "metadata": {
    "colab": {
     "base_uri": "https://localhost:8080/"
    },
    "id": "uXvymnlFEKTx",
    "outputId": "68cfaf77-be2a-41be-b3f3-c61f915e709d"
   },
   "outputs": [
    {
     "name": "stderr",
     "output_type": "stream",
     "text": [
      "PyTorch: setting up devices\n",
      "The default value for the training argument `--report_to` will change in v5 (from all installed integrations to none). In v5, you will need to use `--report_to all` to get the same behavior as now. You should start updating your code and make this info disappear :-).\n"
     ]
    }
   ],
   "source": [
    "training_args = ts.TrainingArguments(\n",
    "    output_dir='tmp/model_output',\n",
    "    num_train_epochs=1,\n",
    "    per_device_train_batch_size=16,\n",
    "    per_device_eval_batch_size=128,\n",
    "    learning_rate=3e-5,\n",
    "    weight_decay=1e-2,\n",
    "    max_grad_norm=1.,\n",
    "    warmup_ratio=0.1,\n",
    "    load_best_model_at_end=True,\n",
    "    evaluation_strategy='epoch',\n",
    "    logging_strategy='epoch',\n",
    "    save_strategy='epoch',\n",
    ")"
   ]
  },
  {
   "cell_type": "code",
   "execution_count": 32,
   "metadata": {
    "id": "SD9T5TK_HBs2"
   },
   "outputs": [],
   "source": [
    "trainer = ts.Trainer(\n",
    "    model=model,\n",
    "    args=training_args,\n",
    "    data_collator=data_collator,\n",
    "    train_dataset=train_data,\n",
    "    eval_dataset=val_data\n",
    ")"
   ]
  },
  {
   "cell_type": "code",
   "execution_count": 33,
   "metadata": {
    "colab": {
     "base_uri": "https://localhost:8080/"
    },
    "id": "yqF5TP3GT1Ob",
    "outputId": "3fa2102b-41a9-497e-9ca5-d28dbdf6bd3c"
   },
   "outputs": [
    {
     "data": {
      "text/plain": [
       "True"
      ]
     },
     "execution_count": 33,
     "metadata": {},
     "output_type": "execute_result"
    }
   ],
   "source": [
    "trainer.place_model_on_device"
   ]
  },
  {
   "cell_type": "code",
   "execution_count": 34,
   "metadata": {
    "id": "xkebVA_zVoTb"
   },
   "outputs": [],
   "source": [
    "torch.cuda.empty_cache()"
   ]
  },
  {
   "cell_type": "code",
   "execution_count": 35,
   "metadata": {
    "colab": {
     "base_uri": "https://localhost:8080/",
     "height": 509
    },
    "id": "_xjZCl1JGKkn",
    "outputId": "9fadd8c6-9643-4765-9088-f81edcd3613e"
   },
   "outputs": [
    {
     "name": "stderr",
     "output_type": "stream",
     "text": [
      "/usr/local/lib/python3.7/dist-packages/transformers/optimization.py:309: FutureWarning: This implementation of AdamW is deprecated and will be removed in a future version. Use thePyTorch implementation torch.optim.AdamW instead, or set `no_deprecation_warning=True` to disable this warning\n",
      "  FutureWarning,\n",
      "***** Running training *****\n",
      "  Num examples = 80000\n",
      "  Num Epochs = 1\n",
      "  Instantaneous batch size per device = 16\n",
      "  Total train batch size (w. parallel, distributed & accumulation) = 16\n",
      "  Gradient Accumulation steps = 1\n",
      "  Total optimization steps = 5000\n"
     ]
    },
    {
     "data": {
      "text/html": [
       "\n",
       "    <div>\n",
       "      \n",
       "      <progress value='5000' max='5000' style='width:300px; height:20px; vertical-align: middle;'></progress>\n",
       "      [5000/5000 40:18, Epoch 1/1]\n",
       "    </div>\n",
       "    <table border=\"1\" class=\"dataframe\">\n",
       "  <thead>\n",
       " <tr style=\"text-align: left;\">\n",
       "      <th>Epoch</th>\n",
       "      <th>Training Loss</th>\n",
       "      <th>Validation Loss</th>\n",
       "    </tr>\n",
       "  </thead>\n",
       "  <tbody>\n",
       "    <tr>\n",
       "      <td>1</td>\n",
       "      <td>2.899400</td>\n",
       "      <td>1.048270</td>\n",
       "    </tr>\n",
       "  </tbody>\n",
       "</table><p>"
      ],
      "text/plain": [
       "<IPython.core.display.HTML object>"
      ]
     },
     "metadata": {},
     "output_type": "display_data"
    },
    {
     "name": "stderr",
     "output_type": "stream",
     "text": [
      "***** Running Evaluation *****\n",
      "  Num examples = 20000\n",
      "  Batch size = 128\n",
      "Saving model checkpoint to tmp/model_output/checkpoint-5000\n",
      "Configuration saved in tmp/model_output/checkpoint-5000/config.json\n",
      "Model weights saved in tmp/model_output/checkpoint-5000/pytorch_model.bin\n",
      "\n",
      "\n",
      "Training completed. Do not forget to share your model on huggingface.co/models =)\n",
      "\n",
      "\n",
      "Loading best model from tmp/model_output/checkpoint-5000 (score: 1.0482701063156128).\n"
     ]
    },
    {
     "data": {
      "text/plain": [
       "TrainOutput(global_step=5000, training_loss=2.899432421875, metrics={'train_runtime': 2418.6295, 'train_samples_per_second': 33.077, 'train_steps_per_second': 2.067, 'total_flos': 2844752886802944.0, 'train_loss': 2.899432421875, 'epoch': 1.0})"
      ]
     },
     "execution_count": 35,
     "metadata": {},
     "output_type": "execute_result"
    }
   ],
   "source": [
    "trainer.train()"
   ]
  },
  {
   "cell_type": "code",
   "execution_count": 36,
   "metadata": {
    "colab": {
     "base_uri": "https://localhost:8080/",
     "height": 49,
     "referenced_widgets": [
      "8f3338908b7a48078abbacccd53d372a",
      "3e881a55060043e3a2ebf53d226f4fd9",
      "35187cbb7ba64b36bd599056469bc167",
      "75c11929366a44829441657f46577724",
      "554d7449e08e4cf7acc7b6706bee135c",
      "ceb7f3694c0f422b8055d689b75e8d80",
      "0fa46f615d404c1982f3466d436e587d",
      "4c49b1d1db1347f2a14057ebed793a3a",
      "a860f35aa70b45adb6e29442ec6e3b63",
      "5c5f33e9d9164e5584f603018b04dff4",
      "f10159bafbfd413f9ef2e3223bd89662"
     ]
    },
    "id": "0Atua2DhfWH8",
    "outputId": "9c2a9cc0-6377-4dc6-825c-3e6ecf2e5638"
   },
   "outputs": [
    {
     "data": {
      "application/vnd.jupyter.widget-view+json": {
       "model_id": "8f3338908b7a48078abbacccd53d372a",
       "version_major": 2,
       "version_minor": 0
      },
      "text/plain": [
       "0ex [00:00, ?ex/s]"
      ]
     },
     "metadata": {},
     "output_type": "display_data"
    }
   ],
   "source": [
    "test_data = test_data.map(tokenize)"
   ]
  },
  {
   "cell_type": "code",
   "execution_count": 37,
   "metadata": {
    "colab": {
     "base_uri": "https://localhost:8080/",
     "height": 248
    },
    "id": "K9s6kE1_fybG",
    "outputId": "87ffdbf4-c21d-498f-e041-4f3335481366"
   },
   "outputs": [
    {
     "name": "stderr",
     "output_type": "stream",
     "text": [
      "The following columns in the test set  don't have a corresponding argument in `DistilBertForSequenceClassification.forward` and have been ignored: review_id, positive, negative.\n",
      "***** Running Prediction *****\n",
      "  Num examples = 20000\n",
      "  Batch size = 128\n"
     ]
    },
    {
     "data": {
      "text/html": [
       "\n",
       "    <div>\n",
       "      \n",
       "      <progress value='157' max='157' style='width:300px; height:20px; vertical-align: middle;'></progress>\n",
       "      [157/157 05:40]\n",
       "    </div>\n",
       "    "
      ],
      "text/plain": [
       "<IPython.core.display.HTML object>"
      ]
     },
     "metadata": {},
     "output_type": "display_data"
    },
    {
     "data": {
      "text/plain": [
       "PredictionOutput(predictions=array([[4.0872445],\n",
       "       [9.705927 ],\n",
       "       [6.594796 ],\n",
       "       ...,\n",
       "       [9.877538 ],\n",
       "       [7.070941 ],\n",
       "       [8.264209 ]], dtype=float32), label_ids=None, metrics={'test_runtime': 343.4496, 'test_samples_per_second': 58.233, 'test_steps_per_second': 0.457})"
      ]
     },
     "execution_count": 37,
     "metadata": {},
     "output_type": "execute_result"
    }
   ],
   "source": [
    "predictions = trainer.predict(test_data)\n",
    "predictions"
   ]
  },
  {
   "cell_type": "code",
   "execution_count": 51,
   "metadata": {
    "id": "eFf-XEaLgJHU"
   },
   "outputs": [],
   "source": [
    "submission_3 = pd.DataFrame({'review_id': test_data['review_id'],\n",
    "                             'score': predictions.predictions.T[0]})\n",
    "submission_3.to_csv('submission_3.csv', index=False)"
   ]
  },
  {
   "cell_type": "code",
   "execution_count": 52,
   "metadata": {
    "colab": {
     "base_uri": "https://localhost:8080/"
    },
    "id": "QQobEzj-h_c6",
    "outputId": "b44b4fd3-31fc-4b03-b6df-6c34a86de84f"
   },
   "outputs": [
    {
     "name": "stdout",
     "output_type": "stream",
     "text": [
      "Warning: Looks like you're using an outdated API Version, please consider updating (server 1.5.12 / client 1.5.4)\n",
      "100% 823k/823k [00:03<00:00, 253kB/s]\n",
      "Successfully submitted to Intro to deep learning 2021, homework 3"
     ]
    }
   ],
   "source": [
    "!kaggle competitions submit -c intro-to-dl-hw03 -f submission_3.csv -m \"distilbert-base-uncased\""
   ]
  },
  {
   "cell_type": "markdown",
   "metadata": {
    "id": "n3OeNQkoXHaW"
   },
   "source": [
    "### Контест (до 3 баллов)\n",
    "\n",
    "По итогам всех ваших экспериментов выберите модель, которую считаете лучшей. Сделайте сабмит в контест. В зависимости от вашего скора на публичном лидерборде, мы начислим вам баллы:\n",
    "\n",
    " - <0.76 - 3 балла\n",
    " - [0.76; 0.78) - 2 балла\n",
    " - [0.78; 0.8) - 1 балл"
   ]
  },
  {
   "attachments": {
    "s3.png": {
     "image/png": "[encoded data removed]"
    }
   },
   "cell_type": "markdown",
   "metadata": {
    "id": "AuWKWQV_i3N2"
   },
   "source": [
    "Несмотря на то, что лосс на валидации у моего трансформера оставляет желать лучшего, на тестовых данных он показал себя просто отлично:  \n",
    "![s3.png](attachment:s3.png)"
   ]
  }
 ],
 "metadata": {
  "accelerator": "GPU",
  "colab": {
   "collapsed_sections": [],
   "name": "homework-03-text-Aslanov.ipynb",
   "provenance": []
  },
  "kernelspec": {
   "display_name": "Python 3 (ipykernel)",
   "language": "python",
   "name": "python3"
  },
  "language_info": {
   "codemirror_mode": {
    "name": "ipython",
    "version": 3
   },
   "file_extension": ".py",
   "mimetype": "text/x-python",
   "name": "python",
   "nbconvert_exporter": "python",
   "pygments_lexer": "ipython3",
   "version": "3.7.4"
  },
  "widgets": {
   "application/vnd.jupyter.widget-state+json": {
    "048161edaafb4238ae0e85ae68e72b35": {
     "model_module": "@jupyter-widgets/base",
     "model_module_version": "1.2.0",
     "model_name": "LayoutModel",
     "state": {
      "_model_module": "@jupyter-widgets/base",
      "_model_module_version": "1.2.0",
      "_model_name": "LayoutModel",
      "_view_count": null,
      "_view_module": "@jupyter-widgets/base",
      "_view_module_version": "1.2.0",
      "_view_name": "LayoutView",
      "align_content": null,
      "align_items": null,
      "align_self": null,
      "border": null,
      "bottom": null,
      "display": null,
      "flex": null,
      "flex_flow": null,
      "grid_area": null,
      "grid_auto_columns": null,
      "grid_auto_flow": null,
      "grid_auto_rows": null,
      "grid_column": null,
      "grid_gap": null,
      "grid_row": null,
      "grid_template_areas": null,
      "grid_template_columns": null,
      "grid_template_rows": null,
      "height": null,
      "justify_content": null,
      "justify_items": null,
      "left": null,
      "margin": null,
      "max_height": null,
      "max_width": null,
      "min_height": null,
      "min_width": null,
      "object_fit": null,
      "object_position": null,
      "order": null,
      "overflow": null,
      "overflow_x": null,
      "overflow_y": null,
      "padding": null,
      "right": null,
      "top": null,
      "visibility": null,
      "width": null
     }
    },
    "0c0332ee7a1b435f9281eb3eeaf85fd9": {
     "model_module": "@jupyter-widgets/controls",
     "model_module_version": "1.5.0",
     "model_name": "DescriptionStyleModel",
     "state": {
      "_model_module": "@jupyter-widgets/controls",
      "_model_module_version": "1.5.0",
      "_model_name": "DescriptionStyleModel",
      "_view_count": null,
      "_view_module": "@jupyter-widgets/base",
      "_view_module_version": "1.2.0",
      "_view_name": "StyleView",
      "description_width": ""
     }
    },
    "0f5e0a064d9c4178ba9e4d0f9d6e1910": {
     "model_module": "@jupyter-widgets/base",
     "model_module_version": "1.2.0",
     "model_name": "LayoutModel",
     "state": {
      "_model_module": "@jupyter-widgets/base",
      "_model_module_version": "1.2.0",
      "_model_name": "LayoutModel",
      "_view_count": null,
      "_view_module": "@jupyter-widgets/base",
      "_view_module_version": "1.2.0",
      "_view_name": "LayoutView",
      "align_content": null,
      "align_items": null,
      "align_self": null,
      "border": null,
      "bottom": null,
      "display": null,
      "flex": null,
      "flex_flow": null,
      "grid_area": null,
      "grid_auto_columns": null,
      "grid_auto_flow": null,
      "grid_auto_rows": null,
      "grid_column": null,
      "grid_gap": null,
      "grid_row": null,
      "grid_template_areas": null,
      "grid_template_columns": null,
      "grid_template_rows": null,
      "height": null,
      "justify_content": null,
      "justify_items": null,
      "left": null,
      "margin": null,
      "max_height": null,
      "max_width": null,
      "min_height": null,
      "min_width": null,
      "object_fit": null,
      "object_position": null,
      "order": null,
      "overflow": null,
      "overflow_x": null,
      "overflow_y": null,
      "padding": null,
      "right": null,
      "top": null,
      "visibility": null,
      "width": "20px"
     }
    },
    "0fa46f615d404c1982f3466d436e587d": {
     "model_module": "@jupyter-widgets/base",
     "model_module_version": "1.2.0",
     "model_name": "LayoutModel",
     "state": {
      "_model_module": "@jupyter-widgets/base",
      "_model_module_version": "1.2.0",
      "_model_name": "LayoutModel",
      "_view_count": null,
      "_view_module": "@jupyter-widgets/base",
      "_view_module_version": "1.2.0",
      "_view_name": "LayoutView",
      "align_content": null,
      "align_items": null,
      "align_self": null,
      "border": null,
      "bottom": null,
      "display": null,
      "flex": null,
      "flex_flow": null,
      "grid_area": null,
      "grid_auto_columns": null,
      "grid_auto_flow": null,
      "grid_auto_rows": null,
      "grid_column": null,
      "grid_gap": null,
      "grid_row": null,
      "grid_template_areas": null,
      "grid_template_columns": null,
      "grid_template_rows": null,
      "height": null,
      "justify_content": null,
      "justify_items": null,
      "left": null,
      "margin": null,
      "max_height": null,
      "max_width": null,
      "min_height": null,
      "min_width": null,
      "object_fit": null,
      "object_position": null,
      "order": null,
      "overflow": null,
      "overflow_x": null,
      "overflow_y": null,
      "padding": null,
      "right": null,
      "top": null,
      "visibility": null,
      "width": null
     }
    },
    "278bfed4e6074261986ed407e53f8170": {
     "model_module": "@jupyter-widgets/base",
     "model_module_version": "1.2.0",
     "model_name": "LayoutModel",
     "state": {
      "_model_module": "@jupyter-widgets/base",
      "_model_module_version": "1.2.0",
      "_model_name": "LayoutModel",
      "_view_count": null,
      "_view_module": "@jupyter-widgets/base",
      "_view_module_version": "1.2.0",
      "_view_name": "LayoutView",
      "align_content": null,
      "align_items": null,
      "align_self": null,
      "border": null,
      "bottom": null,
      "display": null,
      "flex": null,
      "flex_flow": null,
      "grid_area": null,
      "grid_auto_columns": null,
      "grid_auto_flow": null,
      "grid_auto_rows": null,
      "grid_column": null,
      "grid_gap": null,
      "grid_row": null,
      "grid_template_areas": null,
      "grid_template_columns": null,
      "grid_template_rows": null,
      "height": null,
      "justify_content": null,
      "justify_items": null,
      "left": null,
      "margin": null,
      "max_height": null,
      "max_width": null,
      "min_height": null,
      "min_width": null,
      "object_fit": null,
      "object_position": null,
      "order": null,
      "overflow": null,
      "overflow_x": null,
      "overflow_y": null,
      "padding": null,
      "right": null,
      "top": null,
      "visibility": null,
      "width": null
     }
    },
    "35187cbb7ba64b36bd599056469bc167": {
     "model_module": "@jupyter-widgets/controls",
     "model_module_version": "1.5.0",
     "model_name": "HTMLModel",
     "state": {
      "_dom_classes": [],
      "_model_module": "@jupyter-widgets/controls",
      "_model_module_version": "1.5.0",
      "_model_name": "HTMLModel",
      "_view_count": null,
      "_view_module": "@jupyter-widgets/controls",
      "_view_module_version": "1.5.0",
      "_view_name": "HTMLView",
      "description": "",
      "description_tooltip": null,
      "layout": "IPY_MODEL_0fa46f615d404c1982f3466d436e587d",
      "placeholder": "​",
      "style": "IPY_MODEL_ceb7f3694c0f422b8055d689b75e8d80",
      "value": ""
     }
    },
    "3812b11c3c3d4450bdc2f46e86f01294": {
     "model_module": "@jupyter-widgets/base",
     "model_module_version": "1.2.0",
     "model_name": "LayoutModel",
     "state": {
      "_model_module": "@jupyter-widgets/base",
      "_model_module_version": "1.2.0",
      "_model_name": "LayoutModel",
      "_view_count": null,
      "_view_module": "@jupyter-widgets/base",
      "_view_module_version": "1.2.0",
      "_view_name": "LayoutView",
      "align_content": null,
      "align_items": null,
      "align_self": null,
      "border": null,
      "bottom": null,
      "display": null,
      "flex": null,
      "flex_flow": null,
      "grid_area": null,
      "grid_auto_columns": null,
      "grid_auto_flow": null,
      "grid_auto_rows": null,
      "grid_column": null,
      "grid_gap": null,
      "grid_row": null,
      "grid_template_areas": null,
      "grid_template_columns": null,
      "grid_template_rows": null,
      "height": null,
      "justify_content": null,
      "justify_items": null,
      "left": null,
      "margin": null,
      "max_height": null,
      "max_width": null,
      "min_height": null,
      "min_width": null,
      "object_fit": null,
      "object_position": null,
      "order": null,
      "overflow": null,
      "overflow_x": null,
      "overflow_y": null,
      "padding": null,
      "right": null,
      "top": null,
      "visibility": null,
      "width": null
     }
    },
    "3e881a55060043e3a2ebf53d226f4fd9": {
     "model_module": "@jupyter-widgets/base",
     "model_module_version": "1.2.0",
     "model_name": "LayoutModel",
     "state": {
      "_model_module": "@jupyter-widgets/base",
      "_model_module_version": "1.2.0",
      "_model_name": "LayoutModel",
      "_view_count": null,
      "_view_module": "@jupyter-widgets/base",
      "_view_module_version": "1.2.0",
      "_view_name": "LayoutView",
      "align_content": null,
      "align_items": null,
      "align_self": null,
      "border": null,
      "bottom": null,
      "display": null,
      "flex": null,
      "flex_flow": null,
      "grid_area": null,
      "grid_auto_columns": null,
      "grid_auto_flow": null,
      "grid_auto_rows": null,
      "grid_column": null,
      "grid_gap": null,
      "grid_row": null,
      "grid_template_areas": null,
      "grid_template_columns": null,
      "grid_template_rows": null,
      "height": null,
      "justify_content": null,
      "justify_items": null,
      "left": null,
      "margin": null,
      "max_height": null,
      "max_width": null,
      "min_height": null,
      "min_width": null,
      "object_fit": null,
      "object_position": null,
      "order": null,
      "overflow": null,
      "overflow_x": null,
      "overflow_y": null,
      "padding": null,
      "right": null,
      "top": null,
      "visibility": null,
      "width": null
     }
    },
    "3ef5459500304e86bc178173b48db1b6": {
     "model_module": "@jupyter-widgets/controls",
     "model_module_version": "1.5.0",
     "model_name": "HTMLModel",
     "state": {
      "_dom_classes": [],
      "_model_module": "@jupyter-widgets/controls",
      "_model_module_version": "1.5.0",
      "_model_name": "HTMLModel",
      "_view_count": null,
      "_view_module": "@jupyter-widgets/controls",
      "_view_module_version": "1.5.0",
      "_view_name": "HTMLView",
      "description": "",
      "description_tooltip": null,
      "layout": "IPY_MODEL_048161edaafb4238ae0e85ae68e72b35",
      "placeholder": "​",
      "style": "IPY_MODEL_5170f23c751e40fea0db88794dafec2f",
      "value": ""
     }
    },
    "46711e8562d041548911c08c3c5dccfe": {
     "model_module": "@jupyter-widgets/base",
     "model_module_version": "1.2.0",
     "model_name": "LayoutModel",
     "state": {
      "_model_module": "@jupyter-widgets/base",
      "_model_module_version": "1.2.0",
      "_model_name": "LayoutModel",
      "_view_count": null,
      "_view_module": "@jupyter-widgets/base",
      "_view_module_version": "1.2.0",
      "_view_name": "LayoutView",
      "align_content": null,
      "align_items": null,
      "align_self": null,
      "border": null,
      "bottom": null,
      "display": null,
      "flex": null,
      "flex_flow": null,
      "grid_area": null,
      "grid_auto_columns": null,
      "grid_auto_flow": null,
      "grid_auto_rows": null,
      "grid_column": null,
      "grid_gap": null,
      "grid_row": null,
      "grid_template_areas": null,
      "grid_template_columns": null,
      "grid_template_rows": null,
      "height": null,
      "justify_content": null,
      "justify_items": null,
      "left": null,
      "margin": null,
      "max_height": null,
      "max_width": null,
      "min_height": null,
      "min_width": null,
      "object_fit": null,
      "object_position": null,
      "order": null,
      "overflow": null,
      "overflow_x": null,
      "overflow_y": null,
      "padding": null,
      "right": null,
      "top": null,
      "visibility": null,
      "width": null
     }
    },
    "4c49b1d1db1347f2a14057ebed793a3a": {
     "model_module": "@jupyter-widgets/controls",
     "model_module_version": "1.5.0",
     "model_name": "ProgressStyleModel",
     "state": {
      "_model_module": "@jupyter-widgets/controls",
      "_model_module_version": "1.5.0",
      "_model_name": "ProgressStyleModel",
      "_view_count": null,
      "_view_module": "@jupyter-widgets/base",
      "_view_module_version": "1.2.0",
      "_view_name": "StyleView",
      "bar_color": null,
      "description_width": ""
     }
    },
    "5170f23c751e40fea0db88794dafec2f": {
     "model_module": "@jupyter-widgets/controls",
     "model_module_version": "1.5.0",
     "model_name": "DescriptionStyleModel",
     "state": {
      "_model_module": "@jupyter-widgets/controls",
      "_model_module_version": "1.5.0",
      "_model_name": "DescriptionStyleModel",
      "_view_count": null,
      "_view_module": "@jupyter-widgets/base",
      "_view_module_version": "1.2.0",
      "_view_name": "StyleView",
      "description_width": ""
     }
    },
    "554d7449e08e4cf7acc7b6706bee135c": {
     "model_module": "@jupyter-widgets/controls",
     "model_module_version": "1.5.0",
     "model_name": "HTMLModel",
     "state": {
      "_dom_classes": [],
      "_model_module": "@jupyter-widgets/controls",
      "_model_module_version": "1.5.0",
      "_model_name": "HTMLModel",
      "_view_count": null,
      "_view_module": "@jupyter-widgets/controls",
      "_view_module_version": "1.5.0",
      "_view_name": "HTMLView",
      "description": "",
      "description_tooltip": null,
      "layout": "IPY_MODEL_f10159bafbfd413f9ef2e3223bd89662",
      "placeholder": "​",
      "style": "IPY_MODEL_5c5f33e9d9164e5584f603018b04dff4",
      "value": " 20000/? [00:12&lt;00:00, 1962.65ex/s]"
     }
    },
    "5c5f33e9d9164e5584f603018b04dff4": {
     "model_module": "@jupyter-widgets/controls",
     "model_module_version": "1.5.0",
     "model_name": "DescriptionStyleModel",
     "state": {
      "_model_module": "@jupyter-widgets/controls",
      "_model_module_version": "1.5.0",
      "_model_name": "DescriptionStyleModel",
      "_view_count": null,
      "_view_module": "@jupyter-widgets/base",
      "_view_module_version": "1.2.0",
      "_view_name": "StyleView",
      "description_width": ""
     }
    },
    "61cbeef17be74b29b976280da1a5f5fe": {
     "model_module": "@jupyter-widgets/controls",
     "model_module_version": "1.5.0",
     "model_name": "DescriptionStyleModel",
     "state": {
      "_model_module": "@jupyter-widgets/controls",
      "_model_module_version": "1.5.0",
      "_model_name": "DescriptionStyleModel",
      "_view_count": null,
      "_view_module": "@jupyter-widgets/base",
      "_view_module_version": "1.2.0",
      "_view_name": "StyleView",
      "description_width": ""
     }
    },
    "62d34e5107794581ac831a244fb8a926": {
     "model_module": "@jupyter-widgets/controls",
     "model_module_version": "1.5.0",
     "model_name": "ProgressStyleModel",
     "state": {
      "_model_module": "@jupyter-widgets/controls",
      "_model_module_version": "1.5.0",
      "_model_name": "ProgressStyleModel",
      "_view_count": null,
      "_view_module": "@jupyter-widgets/base",
      "_view_module_version": "1.2.0",
      "_view_name": "StyleView",
      "bar_color": null,
      "description_width": ""
     }
    },
    "6b5d088b246c4d18a76b9b0becad5209": {
     "model_module": "@jupyter-widgets/base",
     "model_module_version": "1.2.0",
     "model_name": "LayoutModel",
     "state": {
      "_model_module": "@jupyter-widgets/base",
      "_model_module_version": "1.2.0",
      "_model_name": "LayoutModel",
      "_view_count": null,
      "_view_module": "@jupyter-widgets/base",
      "_view_module_version": "1.2.0",
      "_view_name": "LayoutView",
      "align_content": null,
      "align_items": null,
      "align_self": null,
      "border": null,
      "bottom": null,
      "display": null,
      "flex": null,
      "flex_flow": null,
      "grid_area": null,
      "grid_auto_columns": null,
      "grid_auto_flow": null,
      "grid_auto_rows": null,
      "grid_column": null,
      "grid_gap": null,
      "grid_row": null,
      "grid_template_areas": null,
      "grid_template_columns": null,
      "grid_template_rows": null,
      "height": null,
      "justify_content": null,
      "justify_items": null,
      "left": null,
      "margin": null,
      "max_height": null,
      "max_width": null,
      "min_height": null,
      "min_width": null,
      "object_fit": null,
      "object_position": null,
      "order": null,
      "overflow": null,
      "overflow_x": null,
      "overflow_y": null,
      "padding": null,
      "right": null,
      "top": null,
      "visibility": null,
      "width": null
     }
    },
    "7320e3cba75f400781d6c141710f6a47": {
     "model_module": "@jupyter-widgets/controls",
     "model_module_version": "1.5.0",
     "model_name": "HTMLModel",
     "state": {
      "_dom_classes": [],
      "_model_module": "@jupyter-widgets/controls",
      "_model_module_version": "1.5.0",
      "_model_name": "HTMLModel",
      "_view_count": null,
      "_view_module": "@jupyter-widgets/controls",
      "_view_module_version": "1.5.0",
      "_view_name": "HTMLView",
      "description": "",
      "description_tooltip": null,
      "layout": "IPY_MODEL_6b5d088b246c4d18a76b9b0becad5209",
      "placeholder": "​",
      "style": "IPY_MODEL_0c0332ee7a1b435f9281eb3eeaf85fd9",
      "value": " 20000/? [00:08&lt;00:00, 2328.34ex/s]"
     }
    },
    "75c11929366a44829441657f46577724": {
     "model_module": "@jupyter-widgets/controls",
     "model_module_version": "1.5.0",
     "model_name": "FloatProgressModel",
     "state": {
      "_dom_classes": [],
      "_model_module": "@jupyter-widgets/controls",
      "_model_module_version": "1.5.0",
      "_model_name": "FloatProgressModel",
      "_view_count": null,
      "_view_module": "@jupyter-widgets/controls",
      "_view_module_version": "1.5.0",
      "_view_name": "ProgressView",
      "bar_style": "success",
      "description": "",
      "description_tooltip": null,
      "layout": "IPY_MODEL_a860f35aa70b45adb6e29442ec6e3b63",
      "max": 1,
      "min": 0,
      "orientation": "horizontal",
      "style": "IPY_MODEL_4c49b1d1db1347f2a14057ebed793a3a",
      "value": 1
     }
    },
    "762d57761d1e4fa59cd57cf88555032a": {
     "model_module": "@jupyter-widgets/controls",
     "model_module_version": "1.5.0",
     "model_name": "HTMLModel",
     "state": {
      "_dom_classes": [],
      "_model_module": "@jupyter-widgets/controls",
      "_model_module_version": "1.5.0",
      "_model_name": "HTMLModel",
      "_view_count": null,
      "_view_module": "@jupyter-widgets/controls",
      "_view_module_version": "1.5.0",
      "_view_name": "HTMLView",
      "description": "",
      "description_tooltip": null,
      "layout": "IPY_MODEL_3812b11c3c3d4450bdc2f46e86f01294",
      "placeholder": "​",
      "style": "IPY_MODEL_d4d1e1541a534859a58ceccb0f74464c",
      "value": ""
     }
    },
    "7d29f5e0d0a143bf9f7dedf28cc03785": {
     "model_module": "@jupyter-widgets/controls",
     "model_module_version": "1.5.0",
     "model_name": "HBoxModel",
     "state": {
      "_dom_classes": [],
      "_model_module": "@jupyter-widgets/controls",
      "_model_module_version": "1.5.0",
      "_model_name": "HBoxModel",
      "_view_count": null,
      "_view_module": "@jupyter-widgets/controls",
      "_view_module_version": "1.5.0",
      "_view_name": "HBoxView",
      "box_style": "",
      "children": [
       "IPY_MODEL_3ef5459500304e86bc178173b48db1b6",
       "IPY_MODEL_8c0ad0b09b3148978abdaa99fc19d5e5",
       "IPY_MODEL_7320e3cba75f400781d6c141710f6a47"
      ],
      "layout": "IPY_MODEL_a79e7bb768cd4ae28f5c9c60dd98c6c8"
     }
    },
    "8c0ad0b09b3148978abdaa99fc19d5e5": {
     "model_module": "@jupyter-widgets/controls",
     "model_module_version": "1.5.0",
     "model_name": "FloatProgressModel",
     "state": {
      "_dom_classes": [],
      "_model_module": "@jupyter-widgets/controls",
      "_model_module_version": "1.5.0",
      "_model_name": "FloatProgressModel",
      "_view_count": null,
      "_view_module": "@jupyter-widgets/controls",
      "_view_module_version": "1.5.0",
      "_view_name": "ProgressView",
      "bar_style": "success",
      "description": "",
      "description_tooltip": null,
      "layout": "IPY_MODEL_0f5e0a064d9c4178ba9e4d0f9d6e1910",
      "max": 1,
      "min": 0,
      "orientation": "horizontal",
      "style": "IPY_MODEL_fa71a5db24954951ac349ec4aa44c119",
      "value": 1
     }
    },
    "8f3338908b7a48078abbacccd53d372a": {
     "model_module": "@jupyter-widgets/controls",
     "model_module_version": "1.5.0",
     "model_name": "HBoxModel",
     "state": {
      "_dom_classes": [],
      "_model_module": "@jupyter-widgets/controls",
      "_model_module_version": "1.5.0",
      "_model_name": "HBoxModel",
      "_view_count": null,
      "_view_module": "@jupyter-widgets/controls",
      "_view_module_version": "1.5.0",
      "_view_name": "HBoxView",
      "box_style": "",
      "children": [
       "IPY_MODEL_35187cbb7ba64b36bd599056469bc167",
       "IPY_MODEL_75c11929366a44829441657f46577724",
       "IPY_MODEL_554d7449e08e4cf7acc7b6706bee135c"
      ],
      "layout": "IPY_MODEL_3e881a55060043e3a2ebf53d226f4fd9"
     }
    },
    "a79e7bb768cd4ae28f5c9c60dd98c6c8": {
     "model_module": "@jupyter-widgets/base",
     "model_module_version": "1.2.0",
     "model_name": "LayoutModel",
     "state": {
      "_model_module": "@jupyter-widgets/base",
      "_model_module_version": "1.2.0",
      "_model_name": "LayoutModel",
      "_view_count": null,
      "_view_module": "@jupyter-widgets/base",
      "_view_module_version": "1.2.0",
      "_view_name": "LayoutView",
      "align_content": null,
      "align_items": null,
      "align_self": null,
      "border": null,
      "bottom": null,
      "display": null,
      "flex": null,
      "flex_flow": null,
      "grid_area": null,
      "grid_auto_columns": null,
      "grid_auto_flow": null,
      "grid_auto_rows": null,
      "grid_column": null,
      "grid_gap": null,
      "grid_row": null,
      "grid_template_areas": null,
      "grid_template_columns": null,
      "grid_template_rows": null,
      "height": null,
      "justify_content": null,
      "justify_items": null,
      "left": null,
      "margin": null,
      "max_height": null,
      "max_width": null,
      "min_height": null,
      "min_width": null,
      "object_fit": null,
      "object_position": null,
      "order": null,
      "overflow": null,
      "overflow_x": null,
      "overflow_y": null,
      "padding": null,
      "right": null,
      "top": null,
      "visibility": null,
      "width": null
     }
    },
    "a860f35aa70b45adb6e29442ec6e3b63": {
     "model_module": "@jupyter-widgets/base",
     "model_module_version": "1.2.0",
     "model_name": "LayoutModel",
     "state": {
      "_model_module": "@jupyter-widgets/base",
      "_model_module_version": "1.2.0",
      "_model_name": "LayoutModel",
      "_view_count": null,
      "_view_module": "@jupyter-widgets/base",
      "_view_module_version": "1.2.0",
      "_view_name": "LayoutView",
      "align_content": null,
      "align_items": null,
      "align_self": null,
      "border": null,
      "bottom": null,
      "display": null,
      "flex": null,
      "flex_flow": null,
      "grid_area": null,
      "grid_auto_columns": null,
      "grid_auto_flow": null,
      "grid_auto_rows": null,
      "grid_column": null,
      "grid_gap": null,
      "grid_row": null,
      "grid_template_areas": null,
      "grid_template_columns": null,
      "grid_template_rows": null,
      "height": null,
      "justify_content": null,
      "justify_items": null,
      "left": null,
      "margin": null,
      "max_height": null,
      "max_width": null,
      "min_height": null,
      "min_width": null,
      "object_fit": null,
      "object_position": null,
      "order": null,
      "overflow": null,
      "overflow_x": null,
      "overflow_y": null,
      "padding": null,
      "right": null,
      "top": null,
      "visibility": null,
      "width": "20px"
     }
    },
    "aae0b91af2ce442c8e182ef6d141df5c": {
     "model_module": "@jupyter-widgets/controls",
     "model_module_version": "1.5.0",
     "model_name": "FloatProgressModel",
     "state": {
      "_dom_classes": [],
      "_model_module": "@jupyter-widgets/controls",
      "_model_module_version": "1.5.0",
      "_model_name": "FloatProgressModel",
      "_view_count": null,
      "_view_module": "@jupyter-widgets/controls",
      "_view_module_version": "1.5.0",
      "_view_name": "ProgressView",
      "bar_style": "success",
      "description": "",
      "description_tooltip": null,
      "layout": "IPY_MODEL_be6c537ec9da438bb187fe0b976f5fcc",
      "max": 1,
      "min": 0,
      "orientation": "horizontal",
      "style": "IPY_MODEL_62d34e5107794581ac831a244fb8a926",
      "value": 1
     }
    },
    "bad5ce45e3c048dba6957289a7621dee": {
     "model_module": "@jupyter-widgets/controls",
     "model_module_version": "1.5.0",
     "model_name": "HBoxModel",
     "state": {
      "_dom_classes": [],
      "_model_module": "@jupyter-widgets/controls",
      "_model_module_version": "1.5.0",
      "_model_name": "HBoxModel",
      "_view_count": null,
      "_view_module": "@jupyter-widgets/controls",
      "_view_module_version": "1.5.0",
      "_view_name": "HBoxView",
      "box_style": "",
      "children": [
       "IPY_MODEL_762d57761d1e4fa59cd57cf88555032a",
       "IPY_MODEL_aae0b91af2ce442c8e182ef6d141df5c",
       "IPY_MODEL_e83a36ea41a544df82367fdcf45b45ba"
      ],
      "layout": "IPY_MODEL_278bfed4e6074261986ed407e53f8170"
     }
    },
    "be6c537ec9da438bb187fe0b976f5fcc": {
     "model_module": "@jupyter-widgets/base",
     "model_module_version": "1.2.0",
     "model_name": "LayoutModel",
     "state": {
      "_model_module": "@jupyter-widgets/base",
      "_model_module_version": "1.2.0",
      "_model_name": "LayoutModel",
      "_view_count": null,
      "_view_module": "@jupyter-widgets/base",
      "_view_module_version": "1.2.0",
      "_view_name": "LayoutView",
      "align_content": null,
      "align_items": null,
      "align_self": null,
      "border": null,
      "bottom": null,
      "display": null,
      "flex": null,
      "flex_flow": null,
      "grid_area": null,
      "grid_auto_columns": null,
      "grid_auto_flow": null,
      "grid_auto_rows": null,
      "grid_column": null,
      "grid_gap": null,
      "grid_row": null,
      "grid_template_areas": null,
      "grid_template_columns": null,
      "grid_template_rows": null,
      "height": null,
      "justify_content": null,
      "justify_items": null,
      "left": null,
      "margin": null,
      "max_height": null,
      "max_width": null,
      "min_height": null,
      "min_width": null,
      "object_fit": null,
      "object_position": null,
      "order": null,
      "overflow": null,
      "overflow_x": null,
      "overflow_y": null,
      "padding": null,
      "right": null,
      "top": null,
      "visibility": null,
      "width": "20px"
     }
    },
    "ceb7f3694c0f422b8055d689b75e8d80": {
     "model_module": "@jupyter-widgets/controls",
     "model_module_version": "1.5.0",
     "model_name": "DescriptionStyleModel",
     "state": {
      "_model_module": "@jupyter-widgets/controls",
      "_model_module_version": "1.5.0",
      "_model_name": "DescriptionStyleModel",
      "_view_count": null,
      "_view_module": "@jupyter-widgets/base",
      "_view_module_version": "1.2.0",
      "_view_name": "StyleView",
      "description_width": ""
     }
    },
    "d4d1e1541a534859a58ceccb0f74464c": {
     "model_module": "@jupyter-widgets/controls",
     "model_module_version": "1.5.0",
     "model_name": "DescriptionStyleModel",
     "state": {
      "_model_module": "@jupyter-widgets/controls",
      "_model_module_version": "1.5.0",
      "_model_name": "DescriptionStyleModel",
      "_view_count": null,
      "_view_module": "@jupyter-widgets/base",
      "_view_module_version": "1.2.0",
      "_view_name": "StyleView",
      "description_width": ""
     }
    },
    "e83a36ea41a544df82367fdcf45b45ba": {
     "model_module": "@jupyter-widgets/controls",
     "model_module_version": "1.5.0",
     "model_name": "HTMLModel",
     "state": {
      "_dom_classes": [],
      "_model_module": "@jupyter-widgets/controls",
      "_model_module_version": "1.5.0",
      "_model_name": "HTMLModel",
      "_view_count": null,
      "_view_module": "@jupyter-widgets/controls",
      "_view_module_version": "1.5.0",
      "_view_name": "HTMLView",
      "description": "",
      "description_tooltip": null,
      "layout": "IPY_MODEL_46711e8562d041548911c08c3c5dccfe",
      "placeholder": "​",
      "style": "IPY_MODEL_61cbeef17be74b29b976280da1a5f5fe",
      "value": " 80000/? [00:33&lt;00:00, 2445.30ex/s]"
     }
    },
    "f10159bafbfd413f9ef2e3223bd89662": {
     "model_module": "@jupyter-widgets/base",
     "model_module_version": "1.2.0",
     "model_name": "LayoutModel",
     "state": {
      "_model_module": "@jupyter-widgets/base",
      "_model_module_version": "1.2.0",
      "_model_name": "LayoutModel",
      "_view_count": null,
      "_view_module": "@jupyter-widgets/base",
      "_view_module_version": "1.2.0",
      "_view_name": "LayoutView",
      "align_content": null,
      "align_items": null,
      "align_self": null,
      "border": null,
      "bottom": null,
      "display": null,
      "flex": null,
      "flex_flow": null,
      "grid_area": null,
      "grid_auto_columns": null,
      "grid_auto_flow": null,
      "grid_auto_rows": null,
      "grid_column": null,
      "grid_gap": null,
      "grid_row": null,
      "grid_template_areas": null,
      "grid_template_columns": null,
      "grid_template_rows": null,
      "height": null,
      "justify_content": null,
      "justify_items": null,
      "left": null,
      "margin": null,
      "max_height": null,
      "max_width": null,
      "min_height": null,
      "min_width": null,
      "object_fit": null,
      "object_position": null,
      "order": null,
      "overflow": null,
      "overflow_x": null,
      "overflow_y": null,
      "padding": null,
      "right": null,
      "top": null,
      "visibility": null,
      "width": null
     }
    },
    "fa71a5db24954951ac349ec4aa44c119": {
     "model_module": "@jupyter-widgets/controls",
     "model_module_version": "1.5.0",
     "model_name": "ProgressStyleModel",
     "state": {
      "_model_module": "@jupyter-widgets/controls",
      "_model_module_version": "1.5.0",
      "_model_name": "ProgressStyleModel",
      "_view_count": null,
      "_view_module": "@jupyter-widgets/base",
      "_view_module_version": "1.2.0",
      "_view_name": "StyleView",
      "bar_color": null,
      "description_width": ""
     }
    }
   },
   "state": {}
  }
 },
 "nbformat": 4,
 "nbformat_minor": 1
}
